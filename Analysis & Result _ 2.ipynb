{
 "cells": [
  {
   "cell_type": "code",
   "execution_count": 3,
   "metadata": {},
   "outputs": [
    {
     "name": "stdout",
     "output_type": "stream",
     "text": [
      "Numpy Version : 1.20.1\n",
      "Pandas Version : 1.2.2\n",
      "Seaborn Version : 0.11.0\n"
     ]
    }
   ],
   "source": [
    "import numpy as np\n",
    "import pandas as pd\n",
    "import matplotlib.pyplot as plt\n",
    "import seaborn as sns\n",
    "from matplotlib import rcParams\n",
    "import warnings\n",
    "warnings.filterwarnings('ignore')\n",
    "\n",
    " \n",
    "print('Numpy Version :', np.__version__)\n",
    "print('Pandas Version :', pd.__version__)\n",
    "print('Seaborn Version :', sns.__version__)"
   ]
  },
  {
   "cell_type": "code",
   "execution_count": 4,
   "metadata": {},
   "outputs": [
    {
     "data": {
      "text/html": [
       "<div>\n",
       "<style scoped>\n",
       "    .dataframe tbody tr th:only-of-type {\n",
       "        vertical-align: middle;\n",
       "    }\n",
       "\n",
       "    .dataframe tbody tr th {\n",
       "        vertical-align: top;\n",
       "    }\n",
       "\n",
       "    .dataframe thead th {\n",
       "        text-align: right;\n",
       "    }\n",
       "</style>\n",
       "<table border=\"1\" class=\"dataframe\">\n",
       "  <thead>\n",
       "    <tr style=\"text-align: right;\">\n",
       "      <th></th>\n",
       "      <th>ID</th>\n",
       "      <th>Warehouse_block</th>\n",
       "      <th>Mode_of_Shipment</th>\n",
       "      <th>Customer_care_calls</th>\n",
       "      <th>Customer_rating</th>\n",
       "      <th>Cost_of_the_Product</th>\n",
       "      <th>Prior_purchases</th>\n",
       "      <th>Product_importance</th>\n",
       "      <th>Gender</th>\n",
       "      <th>Discount_offered</th>\n",
       "      <th>Weight_in_gms</th>\n",
       "      <th>Reached.on.Time_Y.N</th>\n",
       "    </tr>\n",
       "  </thead>\n",
       "  <tbody>\n",
       "    <tr>\n",
       "      <th>0</th>\n",
       "      <td>1</td>\n",
       "      <td>D</td>\n",
       "      <td>Flight</td>\n",
       "      <td>4</td>\n",
       "      <td>2</td>\n",
       "      <td>177</td>\n",
       "      <td>3</td>\n",
       "      <td>low</td>\n",
       "      <td>F</td>\n",
       "      <td>44</td>\n",
       "      <td>1233</td>\n",
       "      <td>1</td>\n",
       "    </tr>\n",
       "    <tr>\n",
       "      <th>1</th>\n",
       "      <td>2</td>\n",
       "      <td>F</td>\n",
       "      <td>Flight</td>\n",
       "      <td>4</td>\n",
       "      <td>5</td>\n",
       "      <td>216</td>\n",
       "      <td>2</td>\n",
       "      <td>low</td>\n",
       "      <td>M</td>\n",
       "      <td>59</td>\n",
       "      <td>3088</td>\n",
       "      <td>1</td>\n",
       "    </tr>\n",
       "    <tr>\n",
       "      <th>2</th>\n",
       "      <td>3</td>\n",
       "      <td>A</td>\n",
       "      <td>Flight</td>\n",
       "      <td>2</td>\n",
       "      <td>2</td>\n",
       "      <td>183</td>\n",
       "      <td>4</td>\n",
       "      <td>low</td>\n",
       "      <td>M</td>\n",
       "      <td>48</td>\n",
       "      <td>3374</td>\n",
       "      <td>1</td>\n",
       "    </tr>\n",
       "    <tr>\n",
       "      <th>3</th>\n",
       "      <td>4</td>\n",
       "      <td>B</td>\n",
       "      <td>Flight</td>\n",
       "      <td>3</td>\n",
       "      <td>3</td>\n",
       "      <td>176</td>\n",
       "      <td>4</td>\n",
       "      <td>medium</td>\n",
       "      <td>M</td>\n",
       "      <td>10</td>\n",
       "      <td>1177</td>\n",
       "      <td>1</td>\n",
       "    </tr>\n",
       "    <tr>\n",
       "      <th>4</th>\n",
       "      <td>5</td>\n",
       "      <td>C</td>\n",
       "      <td>Flight</td>\n",
       "      <td>2</td>\n",
       "      <td>2</td>\n",
       "      <td>184</td>\n",
       "      <td>3</td>\n",
       "      <td>medium</td>\n",
       "      <td>F</td>\n",
       "      <td>46</td>\n",
       "      <td>2484</td>\n",
       "      <td>1</td>\n",
       "    </tr>\n",
       "  </tbody>\n",
       "</table>\n",
       "</div>"
      ],
      "text/plain": [
       "   ID Warehouse_block Mode_of_Shipment  Customer_care_calls  Customer_rating  \\\n",
       "0   1               D           Flight                    4                2   \n",
       "1   2               F           Flight                    4                5   \n",
       "2   3               A           Flight                    2                2   \n",
       "3   4               B           Flight                    3                3   \n",
       "4   5               C           Flight                    2                2   \n",
       "\n",
       "   Cost_of_the_Product  Prior_purchases Product_importance Gender  \\\n",
       "0                  177                3                low      F   \n",
       "1                  216                2                low      M   \n",
       "2                  183                4                low      M   \n",
       "3                  176                4             medium      M   \n",
       "4                  184                3             medium      F   \n",
       "\n",
       "   Discount_offered  Weight_in_gms  Reached.on.Time_Y.N  \n",
       "0                44           1233                    1  \n",
       "1                59           3088                    1  \n",
       "2                48           3374                    1  \n",
       "3                10           1177                    1  \n",
       "4                46           2484                    1  "
      ]
     },
     "execution_count": 4,
     "metadata": {},
     "output_type": "execute_result"
    }
   ],
   "source": [
    "df = pd.read_csv('Train.csv')\n",
    "df.head()"
   ]
  },
  {
   "cell_type": "code",
   "execution_count": 5,
   "metadata": {
    "colab": {
     "base_uri": "https://localhost:8080/",
     "height": 224
    },
    "id": "80P-mZGwOB0-",
    "outputId": "be96bfed-a243-4559-904f-507dc235cd82"
   },
   "outputs": [
    {
     "data": {
      "text/html": [
       "<div>\n",
       "<style scoped>\n",
       "    .dataframe tbody tr th:only-of-type {\n",
       "        vertical-align: middle;\n",
       "    }\n",
       "\n",
       "    .dataframe tbody tr th {\n",
       "        vertical-align: top;\n",
       "    }\n",
       "\n",
       "    .dataframe thead th {\n",
       "        text-align: right;\n",
       "    }\n",
       "</style>\n",
       "<table border=\"1\" class=\"dataframe\">\n",
       "  <thead>\n",
       "    <tr style=\"text-align: right;\">\n",
       "      <th></th>\n",
       "      <th>ID</th>\n",
       "      <th>Warehouse_block</th>\n",
       "      <th>Mode_of_Shipment</th>\n",
       "      <th>Customer_care_calls</th>\n",
       "      <th>Customer_rating</th>\n",
       "      <th>Cost_of_the_Product</th>\n",
       "      <th>Prior_purchases</th>\n",
       "      <th>Product_importance</th>\n",
       "      <th>Gender</th>\n",
       "      <th>Discount_offered</th>\n",
       "      <th>Weight_in_gms</th>\n",
       "      <th>Reached.on.Time_Y.N</th>\n",
       "    </tr>\n",
       "  </thead>\n",
       "  <tbody>\n",
       "    <tr>\n",
       "      <th>7930</th>\n",
       "      <td>7931</td>\n",
       "      <td>C</td>\n",
       "      <td>Road</td>\n",
       "      <td>3</td>\n",
       "      <td>1</td>\n",
       "      <td>242</td>\n",
       "      <td>10</td>\n",
       "      <td>high</td>\n",
       "      <td>M</td>\n",
       "      <td>9</td>\n",
       "      <td>5151</td>\n",
       "      <td>1</td>\n",
       "    </tr>\n",
       "    <tr>\n",
       "      <th>10800</th>\n",
       "      <td>10801</td>\n",
       "      <td>D</td>\n",
       "      <td>Road</td>\n",
       "      <td>5</td>\n",
       "      <td>5</td>\n",
       "      <td>253</td>\n",
       "      <td>6</td>\n",
       "      <td>low</td>\n",
       "      <td>F</td>\n",
       "      <td>1</td>\n",
       "      <td>1300</td>\n",
       "      <td>0</td>\n",
       "    </tr>\n",
       "    <tr>\n",
       "      <th>9400</th>\n",
       "      <td>9401</td>\n",
       "      <td>C</td>\n",
       "      <td>Ship</td>\n",
       "      <td>6</td>\n",
       "      <td>4</td>\n",
       "      <td>285</td>\n",
       "      <td>4</td>\n",
       "      <td>medium</td>\n",
       "      <td>M</td>\n",
       "      <td>4</td>\n",
       "      <td>1244</td>\n",
       "      <td>1</td>\n",
       "    </tr>\n",
       "    <tr>\n",
       "      <th>3840</th>\n",
       "      <td>3841</td>\n",
       "      <td>D</td>\n",
       "      <td>Flight</td>\n",
       "      <td>4</td>\n",
       "      <td>2</td>\n",
       "      <td>153</td>\n",
       "      <td>2</td>\n",
       "      <td>medium</td>\n",
       "      <td>F</td>\n",
       "      <td>4</td>\n",
       "      <td>4069</td>\n",
       "      <td>1</td>\n",
       "    </tr>\n",
       "    <tr>\n",
       "      <th>3491</th>\n",
       "      <td>3492</td>\n",
       "      <td>F</td>\n",
       "      <td>Ship</td>\n",
       "      <td>4</td>\n",
       "      <td>2</td>\n",
       "      <td>223</td>\n",
       "      <td>3</td>\n",
       "      <td>medium</td>\n",
       "      <td>M</td>\n",
       "      <td>3</td>\n",
       "      <td>5121</td>\n",
       "      <td>0</td>\n",
       "    </tr>\n",
       "  </tbody>\n",
       "</table>\n",
       "</div>"
      ],
      "text/plain": [
       "          ID Warehouse_block Mode_of_Shipment  Customer_care_calls  \\\n",
       "7930    7931               C             Road                    3   \n",
       "10800  10801               D             Road                    5   \n",
       "9400    9401               C             Ship                    6   \n",
       "3840    3841               D           Flight                    4   \n",
       "3491    3492               F             Ship                    4   \n",
       "\n",
       "       Customer_rating  Cost_of_the_Product  Prior_purchases  \\\n",
       "7930                 1                  242               10   \n",
       "10800                5                  253                6   \n",
       "9400                 4                  285                4   \n",
       "3840                 2                  153                2   \n",
       "3491                 2                  223                3   \n",
       "\n",
       "      Product_importance Gender  Discount_offered  Weight_in_gms  \\\n",
       "7930                high      M                 9           5151   \n",
       "10800                low      F                 1           1300   \n",
       "9400              medium      M                 4           1244   \n",
       "3840              medium      F                 4           4069   \n",
       "3491              medium      M                 3           5121   \n",
       "\n",
       "       Reached.on.Time_Y.N  \n",
       "7930                     1  \n",
       "10800                    0  \n",
       "9400                     1  \n",
       "3840                     1  \n",
       "3491                     0  "
      ]
     },
     "execution_count": 5,
     "metadata": {},
     "output_type": "execute_result"
    }
   ],
   "source": [
    "df.sample(5)"
   ]
  },
  {
   "cell_type": "code",
   "execution_count": 6,
   "metadata": {
    "id": "OUR1ani0OXyd"
   },
   "outputs": [],
   "source": [
    "df = df.drop(columns = 'ID')"
   ]
  },
  {
   "cell_type": "code",
   "execution_count": 7,
   "metadata": {
    "id": "BLPYkBbUkJPa"
   },
   "outputs": [],
   "source": [
    "df_disc_applied = df.copy()\n",
    "df_disc_applied['Discount_offered'] = [1/100] * df['Discount_offered']\n",
    "df_disc_applied['cashback'] = df['Cost_of_the_Product'] * df['Discount_offered']\n",
    "df_disc_applied['cashback'] = [1/100] * df_disc_applied['cashback'] \n",
    "df_disc_applied['cost_after_discount'] = df['Cost_of_the_Product'] - df_disc_applied['cashback']"
   ]
  },
  {
   "cell_type": "code",
   "execution_count": 8,
   "metadata": {
    "colab": {
     "base_uri": "https://localhost:8080/",
     "height": 224
    },
    "id": "IihTL68POeMz",
    "outputId": "e2d6a09c-afb3-42f7-d1ce-4b761a2e2089"
   },
   "outputs": [
    {
     "data": {
      "text/html": [
       "<div>\n",
       "<style scoped>\n",
       "    .dataframe tbody tr th:only-of-type {\n",
       "        vertical-align: middle;\n",
       "    }\n",
       "\n",
       "    .dataframe tbody tr th {\n",
       "        vertical-align: top;\n",
       "    }\n",
       "\n",
       "    .dataframe thead th {\n",
       "        text-align: right;\n",
       "    }\n",
       "</style>\n",
       "<table border=\"1\" class=\"dataframe\">\n",
       "  <thead>\n",
       "    <tr style=\"text-align: right;\">\n",
       "      <th></th>\n",
       "      <th>Warehouse_block</th>\n",
       "      <th>Mode_of_Shipment</th>\n",
       "      <th>Customer_care_calls</th>\n",
       "      <th>Customer_rating</th>\n",
       "      <th>Cost_of_the_Product</th>\n",
       "      <th>Prior_purchases</th>\n",
       "      <th>Product_importance</th>\n",
       "      <th>Gender</th>\n",
       "      <th>Discount_offered</th>\n",
       "      <th>Weight_in_gms</th>\n",
       "      <th>Reached.on.Time_Y.N</th>\n",
       "      <th>cashback</th>\n",
       "      <th>cost_after_discount</th>\n",
       "    </tr>\n",
       "  </thead>\n",
       "  <tbody>\n",
       "    <tr>\n",
       "      <th>8594</th>\n",
       "      <td>A</td>\n",
       "      <td>Ship</td>\n",
       "      <td>2</td>\n",
       "      <td>4</td>\n",
       "      <td>245</td>\n",
       "      <td>2</td>\n",
       "      <td>medium</td>\n",
       "      <td>F</td>\n",
       "      <td>0.10</td>\n",
       "      <td>5389</td>\n",
       "      <td>0</td>\n",
       "      <td>24.50</td>\n",
       "      <td>220.50</td>\n",
       "    </tr>\n",
       "    <tr>\n",
       "      <th>9047</th>\n",
       "      <td>F</td>\n",
       "      <td>Flight</td>\n",
       "      <td>3</td>\n",
       "      <td>2</td>\n",
       "      <td>226</td>\n",
       "      <td>3</td>\n",
       "      <td>low</td>\n",
       "      <td>F</td>\n",
       "      <td>0.05</td>\n",
       "      <td>5484</td>\n",
       "      <td>0</td>\n",
       "      <td>11.30</td>\n",
       "      <td>214.70</td>\n",
       "    </tr>\n",
       "    <tr>\n",
       "      <th>6988</th>\n",
       "      <td>C</td>\n",
       "      <td>Flight</td>\n",
       "      <td>4</td>\n",
       "      <td>5</td>\n",
       "      <td>133</td>\n",
       "      <td>3</td>\n",
       "      <td>high</td>\n",
       "      <td>F</td>\n",
       "      <td>0.08</td>\n",
       "      <td>5653</td>\n",
       "      <td>1</td>\n",
       "      <td>10.64</td>\n",
       "      <td>122.36</td>\n",
       "    </tr>\n",
       "    <tr>\n",
       "      <th>9502</th>\n",
       "      <td>C</td>\n",
       "      <td>Ship</td>\n",
       "      <td>3</td>\n",
       "      <td>4</td>\n",
       "      <td>193</td>\n",
       "      <td>6</td>\n",
       "      <td>low</td>\n",
       "      <td>M</td>\n",
       "      <td>0.02</td>\n",
       "      <td>5584</td>\n",
       "      <td>0</td>\n",
       "      <td>3.86</td>\n",
       "      <td>189.14</td>\n",
       "    </tr>\n",
       "    <tr>\n",
       "      <th>7549</th>\n",
       "      <td>F</td>\n",
       "      <td>Flight</td>\n",
       "      <td>3</td>\n",
       "      <td>2</td>\n",
       "      <td>150</td>\n",
       "      <td>3</td>\n",
       "      <td>high</td>\n",
       "      <td>M</td>\n",
       "      <td>0.02</td>\n",
       "      <td>5502</td>\n",
       "      <td>0</td>\n",
       "      <td>3.00</td>\n",
       "      <td>147.00</td>\n",
       "    </tr>\n",
       "  </tbody>\n",
       "</table>\n",
       "</div>"
      ],
      "text/plain": [
       "     Warehouse_block Mode_of_Shipment  Customer_care_calls  Customer_rating  \\\n",
       "8594               A             Ship                    2                4   \n",
       "9047               F           Flight                    3                2   \n",
       "6988               C           Flight                    4                5   \n",
       "9502               C             Ship                    3                4   \n",
       "7549               F           Flight                    3                2   \n",
       "\n",
       "      Cost_of_the_Product  Prior_purchases Product_importance Gender  \\\n",
       "8594                  245                2             medium      F   \n",
       "9047                  226                3                low      F   \n",
       "6988                  133                3               high      F   \n",
       "9502                  193                6                low      M   \n",
       "7549                  150                3               high      M   \n",
       "\n",
       "      Discount_offered  Weight_in_gms  Reached.on.Time_Y.N  cashback  \\\n",
       "8594              0.10           5389                    0     24.50   \n",
       "9047              0.05           5484                    0     11.30   \n",
       "6988              0.08           5653                    1     10.64   \n",
       "9502              0.02           5584                    0      3.86   \n",
       "7549              0.02           5502                    0      3.00   \n",
       "\n",
       "      cost_after_discount  \n",
       "8594               220.50  \n",
       "9047               214.70  \n",
       "6988               122.36  \n",
       "9502               189.14  \n",
       "7549               147.00  "
      ]
     },
     "execution_count": 8,
     "metadata": {},
     "output_type": "execute_result"
    }
   ],
   "source": [
    "df_disc_applied.sample(5)"
   ]
  },
  {
   "cell_type": "code",
   "execution_count": 9,
   "metadata": {
    "colab": {
     "base_uri": "https://localhost:8080/"
    },
    "id": "mck_42AjOQUa",
    "outputId": "990e66f0-eb70-47b6-d38d-65dc6e6bc3b2"
   },
   "outputs": [
    {
     "name": "stdout",
     "output_type": "stream",
     "text": [
      "<class 'pandas.core.frame.DataFrame'>\n",
      "RangeIndex: 10999 entries, 0 to 10998\n",
      "Data columns (total 13 columns):\n",
      " #   Column               Non-Null Count  Dtype  \n",
      "---  ------               --------------  -----  \n",
      " 0   Warehouse_block      10999 non-null  object \n",
      " 1   Mode_of_Shipment     10999 non-null  object \n",
      " 2   Customer_care_calls  10999 non-null  int64  \n",
      " 3   Customer_rating      10999 non-null  int64  \n",
      " 4   Cost_of_the_Product  10999 non-null  int64  \n",
      " 5   Prior_purchases      10999 non-null  int64  \n",
      " 6   Product_importance   10999 non-null  object \n",
      " 7   Gender               10999 non-null  object \n",
      " 8   Discount_offered     10999 non-null  float64\n",
      " 9   Weight_in_gms        10999 non-null  int64  \n",
      " 10  Reached.on.Time_Y.N  10999 non-null  int64  \n",
      " 11  cashback             10999 non-null  float64\n",
      " 12  cost_after_discount  10999 non-null  float64\n",
      "dtypes: float64(3), int64(6), object(4)\n",
      "memory usage: 1.1+ MB\n"
     ]
    }
   ],
   "source": [
    "df_disc_applied.info()"
   ]
  },
  {
   "cell_type": "code",
   "execution_count": 10,
   "metadata": {
    "id": "mxNoOw-gOVJa"
   },
   "outputs": [],
   "source": [
    "nums = ['Customer_care_calls','Customer_rating','Cost_of_the_Product','Prior_purchases','Discount_offered','Weight_in_gms','Reached.on.Time_Y.N', 'cashback','cost_after_discount']\n",
    "cats = ['Warehouse_block','Mode_of_Shipment','Product_importance','Gender']"
   ]
  },
  {
   "cell_type": "code",
   "execution_count": 11,
   "metadata": {
    "id": "r3VVNZdok1EN"
   },
   "outputs": [],
   "source": [
    "# dua kolom baru diubah ke int64 agar bentuknya bukan lagi float\n",
    "df_disc_applied['cashback'] = df_disc_applied['cashback'].apply(np.int64)\n",
    "df_disc_applied['cost_after_discount'] = df_disc_applied['cost_after_discount'].apply(np.int64)\n",
    "df_disc_applied['Discount_offered'] = df_disc_applied['Discount_offered'].apply(np.int64)"
   ]
  },
  {
   "cell_type": "code",
   "execution_count": 12,
   "metadata": {
    "colab": {
     "base_uri": "https://localhost:8080/"
    },
    "id": "Kh7ktmAKlKTK",
    "outputId": "7d1fea3d-e40b-43ce-bce6-aaf8ec8b2c3e"
   },
   "outputs": [
    {
     "name": "stdout",
     "output_type": "stream",
     "text": [
      "<class 'pandas.core.frame.DataFrame'>\n",
      "RangeIndex: 10999 entries, 0 to 10998\n",
      "Data columns (total 13 columns):\n",
      " #   Column               Non-Null Count  Dtype \n",
      "---  ------               --------------  ----- \n",
      " 0   Warehouse_block      10999 non-null  object\n",
      " 1   Mode_of_Shipment     10999 non-null  object\n",
      " 2   Customer_care_calls  10999 non-null  int64 \n",
      " 3   Customer_rating      10999 non-null  int64 \n",
      " 4   Cost_of_the_Product  10999 non-null  int64 \n",
      " 5   Prior_purchases      10999 non-null  int64 \n",
      " 6   Product_importance   10999 non-null  object\n",
      " 7   Gender               10999 non-null  object\n",
      " 8   Discount_offered     10999 non-null  int64 \n",
      " 9   Weight_in_gms        10999 non-null  int64 \n",
      " 10  Reached.on.Time_Y.N  10999 non-null  int64 \n",
      " 11  cashback             10999 non-null  int64 \n",
      " 12  cost_after_discount  10999 non-null  int64 \n",
      "dtypes: int64(9), object(4)\n",
      "memory usage: 1.1+ MB\n"
     ]
    }
   ],
   "source": [
    "df_disc_applied.info()"
   ]
  },
  {
   "cell_type": "code",
   "execution_count": 13,
   "metadata": {
    "colab": {
     "base_uri": "https://localhost:8080/",
     "height": 317
    },
    "id": "D2rKzRYvPD0g",
    "outputId": "44ad60e8-e931-4d9a-9899-299d5cf59a48"
   },
   "outputs": [
    {
     "data": {
      "text/html": [
       "<div>\n",
       "<style scoped>\n",
       "    .dataframe tbody tr th:only-of-type {\n",
       "        vertical-align: middle;\n",
       "    }\n",
       "\n",
       "    .dataframe tbody tr th {\n",
       "        vertical-align: top;\n",
       "    }\n",
       "\n",
       "    .dataframe thead th {\n",
       "        text-align: right;\n",
       "    }\n",
       "</style>\n",
       "<table border=\"1\" class=\"dataframe\">\n",
       "  <thead>\n",
       "    <tr style=\"text-align: right;\">\n",
       "      <th></th>\n",
       "      <th>Customer_care_calls</th>\n",
       "      <th>Customer_rating</th>\n",
       "      <th>Cost_of_the_Product</th>\n",
       "      <th>Prior_purchases</th>\n",
       "      <th>Discount_offered</th>\n",
       "      <th>Weight_in_gms</th>\n",
       "      <th>Reached.on.Time_Y.N</th>\n",
       "      <th>cashback</th>\n",
       "      <th>cost_after_discount</th>\n",
       "    </tr>\n",
       "  </thead>\n",
       "  <tbody>\n",
       "    <tr>\n",
       "      <th>count</th>\n",
       "      <td>10999.000000</td>\n",
       "      <td>10999.000000</td>\n",
       "      <td>10999.000000</td>\n",
       "      <td>10999.000000</td>\n",
       "      <td>10999.0</td>\n",
       "      <td>10999.000000</td>\n",
       "      <td>10999.000000</td>\n",
       "      <td>10999.000000</td>\n",
       "      <td>10999.000000</td>\n",
       "    </tr>\n",
       "    <tr>\n",
       "      <th>mean</th>\n",
       "      <td>4.054459</td>\n",
       "      <td>2.990545</td>\n",
       "      <td>210.196836</td>\n",
       "      <td>3.567597</td>\n",
       "      <td>0.0</td>\n",
       "      <td>3634.016729</td>\n",
       "      <td>0.596691</td>\n",
       "      <td>26.547686</td>\n",
       "      <td>182.682426</td>\n",
       "    </tr>\n",
       "    <tr>\n",
       "      <th>std</th>\n",
       "      <td>1.141490</td>\n",
       "      <td>1.413603</td>\n",
       "      <td>48.063272</td>\n",
       "      <td>1.522860</td>\n",
       "      <td>0.0</td>\n",
       "      <td>1635.377251</td>\n",
       "      <td>0.490584</td>\n",
       "      <td>33.001073</td>\n",
       "      <td>56.901337</td>\n",
       "    </tr>\n",
       "    <tr>\n",
       "      <th>min</th>\n",
       "      <td>2.000000</td>\n",
       "      <td>1.000000</td>\n",
       "      <td>96.000000</td>\n",
       "      <td>2.000000</td>\n",
       "      <td>0.0</td>\n",
       "      <td>1001.000000</td>\n",
       "      <td>0.000000</td>\n",
       "      <td>0.000000</td>\n",
       "      <td>36.000000</td>\n",
       "    </tr>\n",
       "    <tr>\n",
       "      <th>25%</th>\n",
       "      <td>3.000000</td>\n",
       "      <td>2.000000</td>\n",
       "      <td>169.000000</td>\n",
       "      <td>3.000000</td>\n",
       "      <td>0.0</td>\n",
       "      <td>1839.500000</td>\n",
       "      <td>0.000000</td>\n",
       "      <td>7.000000</td>\n",
       "      <td>140.000000</td>\n",
       "    </tr>\n",
       "    <tr>\n",
       "      <th>50%</th>\n",
       "      <td>4.000000</td>\n",
       "      <td>3.000000</td>\n",
       "      <td>214.000000</td>\n",
       "      <td>3.000000</td>\n",
       "      <td>0.0</td>\n",
       "      <td>4149.000000</td>\n",
       "      <td>1.000000</td>\n",
       "      <td>14.000000</td>\n",
       "      <td>186.000000</td>\n",
       "    </tr>\n",
       "    <tr>\n",
       "      <th>75%</th>\n",
       "      <td>5.000000</td>\n",
       "      <td>4.000000</td>\n",
       "      <td>251.000000</td>\n",
       "      <td>4.000000</td>\n",
       "      <td>0.0</td>\n",
       "      <td>5050.000000</td>\n",
       "      <td>1.000000</td>\n",
       "      <td>25.000000</td>\n",
       "      <td>231.000000</td>\n",
       "    </tr>\n",
       "    <tr>\n",
       "      <th>max</th>\n",
       "      <td>7.000000</td>\n",
       "      <td>5.000000</td>\n",
       "      <td>310.000000</td>\n",
       "      <td>10.000000</td>\n",
       "      <td>0.0</td>\n",
       "      <td>7846.000000</td>\n",
       "      <td>1.000000</td>\n",
       "      <td>185.000000</td>\n",
       "      <td>306.000000</td>\n",
       "    </tr>\n",
       "  </tbody>\n",
       "</table>\n",
       "</div>"
      ],
      "text/plain": [
       "       Customer_care_calls  Customer_rating  Cost_of_the_Product  \\\n",
       "count         10999.000000     10999.000000         10999.000000   \n",
       "mean              4.054459         2.990545           210.196836   \n",
       "std               1.141490         1.413603            48.063272   \n",
       "min               2.000000         1.000000            96.000000   \n",
       "25%               3.000000         2.000000           169.000000   \n",
       "50%               4.000000         3.000000           214.000000   \n",
       "75%               5.000000         4.000000           251.000000   \n",
       "max               7.000000         5.000000           310.000000   \n",
       "\n",
       "       Prior_purchases  Discount_offered  Weight_in_gms  Reached.on.Time_Y.N  \\\n",
       "count     10999.000000           10999.0   10999.000000         10999.000000   \n",
       "mean          3.567597               0.0    3634.016729             0.596691   \n",
       "std           1.522860               0.0    1635.377251             0.490584   \n",
       "min           2.000000               0.0    1001.000000             0.000000   \n",
       "25%           3.000000               0.0    1839.500000             0.000000   \n",
       "50%           3.000000               0.0    4149.000000             1.000000   \n",
       "75%           4.000000               0.0    5050.000000             1.000000   \n",
       "max          10.000000               0.0    7846.000000             1.000000   \n",
       "\n",
       "           cashback  cost_after_discount  \n",
       "count  10999.000000         10999.000000  \n",
       "mean      26.547686           182.682426  \n",
       "std       33.001073            56.901337  \n",
       "min        0.000000            36.000000  \n",
       "25%        7.000000           140.000000  \n",
       "50%       14.000000           186.000000  \n",
       "75%       25.000000           231.000000  \n",
       "max      185.000000           306.000000  "
      ]
     },
     "execution_count": 13,
     "metadata": {},
     "output_type": "execute_result"
    }
   ],
   "source": [
    "df_disc_applied.describe()"
   ]
  },
  {
   "cell_type": "code",
   "execution_count": 14,
   "metadata": {
    "colab": {
     "base_uri": "https://localhost:8080/",
     "height": 173
    },
    "id": "SjCMFVLUPD3V",
    "outputId": "0afda605-5888-4582-e624-d42e5ef6bcac"
   },
   "outputs": [
    {
     "data": {
      "text/html": [
       "<div>\n",
       "<style scoped>\n",
       "    .dataframe tbody tr th:only-of-type {\n",
       "        vertical-align: middle;\n",
       "    }\n",
       "\n",
       "    .dataframe tbody tr th {\n",
       "        vertical-align: top;\n",
       "    }\n",
       "\n",
       "    .dataframe thead th {\n",
       "        text-align: right;\n",
       "    }\n",
       "</style>\n",
       "<table border=\"1\" class=\"dataframe\">\n",
       "  <thead>\n",
       "    <tr style=\"text-align: right;\">\n",
       "      <th></th>\n",
       "      <th>Warehouse_block</th>\n",
       "      <th>Mode_of_Shipment</th>\n",
       "      <th>Product_importance</th>\n",
       "      <th>Gender</th>\n",
       "    </tr>\n",
       "  </thead>\n",
       "  <tbody>\n",
       "    <tr>\n",
       "      <th>count</th>\n",
       "      <td>10999</td>\n",
       "      <td>10999</td>\n",
       "      <td>10999</td>\n",
       "      <td>10999</td>\n",
       "    </tr>\n",
       "    <tr>\n",
       "      <th>unique</th>\n",
       "      <td>5</td>\n",
       "      <td>3</td>\n",
       "      <td>3</td>\n",
       "      <td>2</td>\n",
       "    </tr>\n",
       "    <tr>\n",
       "      <th>top</th>\n",
       "      <td>F</td>\n",
       "      <td>Ship</td>\n",
       "      <td>low</td>\n",
       "      <td>F</td>\n",
       "    </tr>\n",
       "    <tr>\n",
       "      <th>freq</th>\n",
       "      <td>3666</td>\n",
       "      <td>7462</td>\n",
       "      <td>5297</td>\n",
       "      <td>5545</td>\n",
       "    </tr>\n",
       "  </tbody>\n",
       "</table>\n",
       "</div>"
      ],
      "text/plain": [
       "       Warehouse_block Mode_of_Shipment Product_importance Gender\n",
       "count            10999            10999              10999  10999\n",
       "unique               5                3                  3      2\n",
       "top                  F             Ship                low      F\n",
       "freq              3666             7462               5297   5545"
      ]
     },
     "execution_count": 14,
     "metadata": {},
     "output_type": "execute_result"
    }
   ],
   "source": [
    "df_disc_applied[cats].describe()"
   ]
  },
  {
   "cell_type": "markdown",
   "metadata": {
    "id": "TWFrMQVCm-GY"
   },
   "source": [
    "## Data Preparation"
   ]
  },
  {
   "cell_type": "markdown",
   "metadata": {
    "id": "Uw_7qtGilu55"
   },
   "source": [
    "### Missing Data"
   ]
  },
  {
   "cell_type": "code",
   "execution_count": 15,
   "metadata": {
    "colab": {
     "base_uri": "https://localhost:8080/"
    },
    "id": "cHhTwoNGninS",
    "outputId": "4d43262a-ce04-4fd4-d49c-80cbbde8d30f"
   },
   "outputs": [
    {
     "name": "stdout",
     "output_type": "stream",
     "text": [
      "<class 'pandas.core.frame.DataFrame'>\n",
      "RangeIndex: 10999 entries, 0 to 10998\n",
      "Data columns (total 13 columns):\n",
      " #   Column               Non-Null Count  Dtype \n",
      "---  ------               --------------  ----- \n",
      " 0   Warehouse_block      10999 non-null  object\n",
      " 1   Mode_of_Shipment     10999 non-null  object\n",
      " 2   Customer_care_calls  10999 non-null  int64 \n",
      " 3   Customer_rating      10999 non-null  int64 \n",
      " 4   Cost_of_the_Product  10999 non-null  int64 \n",
      " 5   Prior_purchases      10999 non-null  int64 \n",
      " 6   Product_importance   10999 non-null  object\n",
      " 7   Gender               10999 non-null  object\n",
      " 8   Discount_offered     10999 non-null  int64 \n",
      " 9   Weight_in_gms        10999 non-null  int64 \n",
      " 10  Reached.on.Time_Y.N  10999 non-null  int64 \n",
      " 11  cashback             10999 non-null  int64 \n",
      " 12  cost_after_discount  10999 non-null  int64 \n",
      "dtypes: int64(9), object(4)\n",
      "memory usage: 1.1+ MB\n"
     ]
    }
   ],
   "source": [
    "df_disc_applied.info()"
   ]
  },
  {
   "cell_type": "markdown",
   "metadata": {
    "id": "zs9ytPzDUPU4"
   },
   "source": [
    "Berdasarkan info di atas semua feature memiliki data yang lengkap atau tidak ada yang missing"
   ]
  },
  {
   "cell_type": "code",
   "execution_count": 16,
   "metadata": {
    "id": "53frQmYgqhWa"
   },
   "outputs": [],
   "source": [
    "cats = ['Warehouse_block','Mode_of_Shipment','Product_importance','Gender']\n",
    "nums = ['Customer_care_calls','Customer_rating','Cost_of_the_Product','Prior_purchases','Discount_offered','Weight_in_gms','Reached.on.Time_Y.N','cashback','cost_after_discount']"
   ]
  },
  {
   "cell_type": "code",
   "execution_count": 17,
   "metadata": {
    "colab": {
     "base_uri": "https://localhost:8080/"
    },
    "id": "9385NR0un4hd",
    "outputId": "923ccc03-0fc4-48ab-8dcf-ce6a7a5109e3"
   },
   "outputs": [
    {
     "data": {
      "text/plain": [
       "Warehouse_block        0\n",
       "Mode_of_Shipment       0\n",
       "Customer_care_calls    0\n",
       "Customer_rating        0\n",
       "Cost_of_the_Product    0\n",
       "Prior_purchases        0\n",
       "Product_importance     0\n",
       "Gender                 0\n",
       "Discount_offered       0\n",
       "Weight_in_gms          0\n",
       "Reached.on.Time_Y.N    0\n",
       "cashback               0\n",
       "cost_after_discount    0\n",
       "dtype: int64"
      ]
     },
     "execution_count": 17,
     "metadata": {},
     "output_type": "execute_result"
    }
   ],
   "source": [
    "df_disc_applied.isna().sum()"
   ]
  },
  {
   "cell_type": "markdown",
   "metadata": {
    "id": "MnaW1HAcptE7"
   },
   "source": [
    "Berdasarkan output di atas tidak ada feature yang memiliki data null"
   ]
  },
  {
   "cell_type": "markdown",
   "metadata": {
    "id": "9aI5U9vFp5HI"
   },
   "source": [
    "### Duplicated Data"
   ]
  },
  {
   "cell_type": "code",
   "execution_count": 18,
   "metadata": {
    "colab": {
     "base_uri": "https://localhost:8080/",
     "height": 1000
    },
    "id": "3XhVElPx2-Ts",
    "outputId": "b0e3328b-a767-46d6-de2c-27190630876d"
   },
   "outputs": [
    {
     "name": "stdout",
     "output_type": "stream",
     "text": [
      "0\n",
      "10984\n",
      "10909\n",
      "10567\n",
      "1846\n",
      "1\n",
      "1\n",
      "0\n"
     ]
    }
   ],
   "source": [
    "print(df_disc_applied.duplicated().sum()) #1\n",
    "print(df_disc_applied.duplicated(subset=['Warehouse_block','Mode_of_Shipment']).sum()) #2\n",
    "print(df_disc_applied.duplicated(subset=['Warehouse_block','Mode_of_Shipment', 'Customer_care_calls']).sum()) #3\n",
    "print(df_disc_applied.duplicated(subset=['Warehouse_block','Mode_of_Shipment', 'Customer_care_calls', 'Customer_rating']).sum()) #4\n",
    "print(df_disc_applied.duplicated(subset=['Warehouse_block','Mode_of_Shipment', 'Customer_care_calls', 'Customer_rating', 'Cost_of_the_Product']).sum()) #5\n",
    "print(df_disc_applied.duplicated(subset=['Warehouse_block','Mode_of_Shipment', 'Customer_care_calls', 'Customer_rating', 'Cost_of_the_Product', 'Weight_in_gms']).sum()) #6\n",
    "print(df_disc_applied.duplicated(subset=['Warehouse_block','Mode_of_Shipment', 'Customer_care_calls', 'Customer_rating', 'Cost_of_the_Product', 'Weight_in_gms','Reached.on.Time_Y.N']).sum()) #7\n",
    "print(df_disc_applied.duplicated(subset=['Customer_care_calls','Customer_rating','Cost_of_the_Product','Prior_purchases','Discount_offered','Weight_in_gms','Reached.on.Time_Y.N','cashback','cost_after_discount']).sum())"
   ]
  },
  {
   "cell_type": "markdown",
   "metadata": {
    "id": "W-eQecTxtOZp"
   },
   "source": [
    "### Outliers"
   ]
  },
  {
   "cell_type": "code",
   "execution_count": 19,
   "metadata": {
    "colab": {
     "base_uri": "https://localhost:8080/"
    },
    "id": "qcZnXpQ6tQB8",
    "outputId": "d97cbb9f-e452-4b47-b338-96485288edf1"
   },
   "outputs": [
    {
     "data": {
      "text/plain": [
       "10999"
      ]
     },
     "execution_count": 19,
     "metadata": {},
     "output_type": "execute_result"
    }
   ],
   "source": [
    "len(df_disc_applied)"
   ]
  },
  {
   "cell_type": "markdown",
   "metadata": {
    "id": "IZlAbVootVHM"
   },
   "source": [
    "Jumlah data adalah 10,999 baris"
   ]
  },
  {
   "cell_type": "code",
   "execution_count": 20,
   "metadata": {
    "id": "6je_UuJltSmV"
   },
   "outputs": [],
   "source": [
    "from scipy import stats"
   ]
  },
  {
   "cell_type": "code",
   "execution_count": 21,
   "metadata": {
    "colab": {
     "base_uri": "https://localhost:8080/",
     "height": 297
    },
    "id": "Sr8FW175vFcp",
    "outputId": "366c5b6e-ca05-41c2-f3de-069c9cb35fd7"
   },
   "outputs": [
    {
     "data": {
      "image/png": "[encoded data removed]",
      "text/plain": [
       "<Figure size 864x288 with 9 Axes>"
      ]
     },
     "metadata": {
      "needs_background": "light"
     },
     "output_type": "display_data"
    }
   ],
   "source": [
    "plt.figure(figsize=(12,4))\n",
    "for i in range(0, len(nums)):\n",
    "  plt.subplot(1, len(nums), i+1)\n",
    "  sns.boxplot(y = df_disc_applied[nums[i]], color = 'green', orient = 'v')\n",
    "  plt.tight_layout()"
   ]
  },
  {
   "cell_type": "code",
   "execution_count": 22,
   "metadata": {
    "colab": {
     "base_uri": "https://localhost:8080/"
    },
    "id": "FTVpHV89tmgq",
    "outputId": "e6b7b754-2f33-4099-a248-9d83de3549aa"
   },
   "outputs": [
    {
     "name": "stdout",
     "output_type": "stream",
     "text": [
      "Jumlah baris sebelum memfilter outlier: 10999\n",
      "Jumlah baris setelah memfilter outlier: 9214\n"
     ]
    }
   ],
   "source": [
    "print(f'Jumlah baris sebelum memfilter outlier: {len(df_disc_applied)}')\n",
    "filter = np.array([True] * len(df_disc_applied))\n",
    "for col in ['Cost_of_the_Product','Weight_in_gms','cashback']:\n",
    "    Q1 = df_disc_applied[col].quantile(0.25)\n",
    "    Q3 = df_disc_applied[col].quantile(0.75)\n",
    "    IQR = Q3 - Q1\n",
    "    low_limit = Q1 - (IQR * 1.5)\n",
    "    high_limit = Q3 + (IQR * 1.5)\n",
    "    filter = ((df_disc_applied[col] >= low_limit) & (df_disc_applied[col] <= high_limit)) & filter\n",
    "    \n",
    "df_filtered = df_disc_applied[filter]\n",
    "print(f'Jumlah baris setelah memfilter outlier: {len(df_filtered)}')"
   ]
  },
  {
   "cell_type": "code",
   "execution_count": 23,
   "metadata": {
    "colab": {
     "base_uri": "https://localhost:8080/"
    },
    "id": "UoEzCXKkGLdQ",
    "outputId": "e1b2b53e-8ab8-4a7b-a0cf-7b76db4b06d9"
   },
   "outputs": [
    {
     "name": "stdout",
     "output_type": "stream",
     "text": [
      "<class 'pandas.core.frame.DataFrame'>\n",
      "Int64Index: 9214 entries, 3 to 10998\n",
      "Data columns (total 13 columns):\n",
      " #   Column               Non-Null Count  Dtype \n",
      "---  ------               --------------  ----- \n",
      " 0   Warehouse_block      9214 non-null   object\n",
      " 1   Mode_of_Shipment     9214 non-null   object\n",
      " 2   Customer_care_calls  9214 non-null   int64 \n",
      " 3   Customer_rating      9214 non-null   int64 \n",
      " 4   Cost_of_the_Product  9214 non-null   int64 \n",
      " 5   Prior_purchases      9214 non-null   int64 \n",
      " 6   Product_importance   9214 non-null   object\n",
      " 7   Gender               9214 non-null   object\n",
      " 8   Discount_offered     9214 non-null   int64 \n",
      " 9   Weight_in_gms        9214 non-null   int64 \n",
      " 10  Reached.on.Time_Y.N  9214 non-null   int64 \n",
      " 11  cashback             9214 non-null   int64 \n",
      " 12  cost_after_discount  9214 non-null   int64 \n",
      "dtypes: int64(9), object(4)\n",
      "memory usage: 1007.8+ KB\n"
     ]
    }
   ],
   "source": [
    "df_filtered.info()"
   ]
  },
  {
   "cell_type": "markdown",
   "metadata": {
    "id": "gAxaODhTvYpJ"
   },
   "source": [
    "### Normalization"
   ]
  },
  {
   "cell_type": "code",
   "execution_count": 24,
   "metadata": {
    "colab": {
     "base_uri": "https://localhost:8080/",
     "height": 317
    },
    "id": "CWTg3p8ovdgt",
    "outputId": "45fd787f-5f1c-4052-d1df-89723e09165e"
   },
   "outputs": [
    {
     "data": {
      "text/html": [
       "<div>\n",
       "<style scoped>\n",
       "    .dataframe tbody tr th:only-of-type {\n",
       "        vertical-align: middle;\n",
       "    }\n",
       "\n",
       "    .dataframe tbody tr th {\n",
       "        vertical-align: top;\n",
       "    }\n",
       "\n",
       "    .dataframe thead th {\n",
       "        text-align: right;\n",
       "    }\n",
       "</style>\n",
       "<table border=\"1\" class=\"dataframe\">\n",
       "  <thead>\n",
       "    <tr style=\"text-align: right;\">\n",
       "      <th></th>\n",
       "      <th>Customer_care_calls</th>\n",
       "      <th>Customer_rating</th>\n",
       "      <th>Cost_of_the_Product</th>\n",
       "      <th>Prior_purchases</th>\n",
       "      <th>Discount_offered</th>\n",
       "      <th>Weight_in_gms</th>\n",
       "      <th>Reached.on.Time_Y.N</th>\n",
       "      <th>cashback</th>\n",
       "      <th>cost_after_discount</th>\n",
       "    </tr>\n",
       "  </thead>\n",
       "  <tbody>\n",
       "    <tr>\n",
       "      <th>count</th>\n",
       "      <td>9214.000000</td>\n",
       "      <td>9214.000000</td>\n",
       "      <td>9214.000000</td>\n",
       "      <td>9214.000000</td>\n",
       "      <td>9214.0</td>\n",
       "      <td>9214.000000</td>\n",
       "      <td>9214.000000</td>\n",
       "      <td>9214.000000</td>\n",
       "      <td>9214.000000</td>\n",
       "    </tr>\n",
       "    <tr>\n",
       "      <th>mean</th>\n",
       "      <td>4.111027</td>\n",
       "      <td>2.993597</td>\n",
       "      <td>211.418602</td>\n",
       "      <td>3.622205</td>\n",
       "      <td>0.0</td>\n",
       "      <td>3859.365422</td>\n",
       "      <td>0.518559</td>\n",
       "      <td>13.564142</td>\n",
       "      <td>196.884524</td>\n",
       "    </tr>\n",
       "    <tr>\n",
       "      <th>std</th>\n",
       "      <td>1.159364</td>\n",
       "      <td>1.411702</td>\n",
       "      <td>48.681230</td>\n",
       "      <td>1.520578</td>\n",
       "      <td>0.0</td>\n",
       "      <td>1648.827257</td>\n",
       "      <td>0.499683</td>\n",
       "      <td>10.055245</td>\n",
       "      <td>48.488206</td>\n",
       "    </tr>\n",
       "    <tr>\n",
       "      <th>min</th>\n",
       "      <td>2.000000</td>\n",
       "      <td>1.000000</td>\n",
       "      <td>96.000000</td>\n",
       "      <td>2.000000</td>\n",
       "      <td>0.0</td>\n",
       "      <td>1001.000000</td>\n",
       "      <td>0.000000</td>\n",
       "      <td>0.000000</td>\n",
       "      <td>48.000000</td>\n",
       "    </tr>\n",
       "    <tr>\n",
       "      <th>25%</th>\n",
       "      <td>3.000000</td>\n",
       "      <td>2.000000</td>\n",
       "      <td>170.000000</td>\n",
       "      <td>3.000000</td>\n",
       "      <td>0.0</td>\n",
       "      <td>1874.250000</td>\n",
       "      <td>0.000000</td>\n",
       "      <td>6.000000</td>\n",
       "      <td>158.000000</td>\n",
       "    </tr>\n",
       "    <tr>\n",
       "      <th>50%</th>\n",
       "      <td>4.000000</td>\n",
       "      <td>3.000000</td>\n",
       "      <td>217.000000</td>\n",
       "      <td>3.000000</td>\n",
       "      <td>0.0</td>\n",
       "      <td>4437.000000</td>\n",
       "      <td>1.000000</td>\n",
       "      <td>12.000000</td>\n",
       "      <td>202.000000</td>\n",
       "    </tr>\n",
       "    <tr>\n",
       "      <th>75%</th>\n",
       "      <td>5.000000</td>\n",
       "      <td>4.000000</td>\n",
       "      <td>252.000000</td>\n",
       "      <td>4.000000</td>\n",
       "      <td>0.0</td>\n",
       "      <td>5210.000000</td>\n",
       "      <td>1.000000</td>\n",
       "      <td>18.000000</td>\n",
       "      <td>237.000000</td>\n",
       "    </tr>\n",
       "    <tr>\n",
       "      <th>max</th>\n",
       "      <td>7.000000</td>\n",
       "      <td>5.000000</td>\n",
       "      <td>310.000000</td>\n",
       "      <td>10.000000</td>\n",
       "      <td>0.0</td>\n",
       "      <td>7588.000000</td>\n",
       "      <td>1.000000</td>\n",
       "      <td>52.000000</td>\n",
       "      <td>306.000000</td>\n",
       "    </tr>\n",
       "  </tbody>\n",
       "</table>\n",
       "</div>"
      ],
      "text/plain": [
       "       Customer_care_calls  Customer_rating  Cost_of_the_Product  \\\n",
       "count          9214.000000      9214.000000          9214.000000   \n",
       "mean              4.111027         2.993597           211.418602   \n",
       "std               1.159364         1.411702            48.681230   \n",
       "min               2.000000         1.000000            96.000000   \n",
       "25%               3.000000         2.000000           170.000000   \n",
       "50%               4.000000         3.000000           217.000000   \n",
       "75%               5.000000         4.000000           252.000000   \n",
       "max               7.000000         5.000000           310.000000   \n",
       "\n",
       "       Prior_purchases  Discount_offered  Weight_in_gms  Reached.on.Time_Y.N  \\\n",
       "count      9214.000000            9214.0    9214.000000          9214.000000   \n",
       "mean          3.622205               0.0    3859.365422             0.518559   \n",
       "std           1.520578               0.0    1648.827257             0.499683   \n",
       "min           2.000000               0.0    1001.000000             0.000000   \n",
       "25%           3.000000               0.0    1874.250000             0.000000   \n",
       "50%           3.000000               0.0    4437.000000             1.000000   \n",
       "75%           4.000000               0.0    5210.000000             1.000000   \n",
       "max          10.000000               0.0    7588.000000             1.000000   \n",
       "\n",
       "          cashback  cost_after_discount  \n",
       "count  9214.000000          9214.000000  \n",
       "mean     13.564142           196.884524  \n",
       "std      10.055245            48.488206  \n",
       "min       0.000000            48.000000  \n",
       "25%       6.000000           158.000000  \n",
       "50%      12.000000           202.000000  \n",
       "75%      18.000000           237.000000  \n",
       "max      52.000000           306.000000  "
      ]
     },
     "execution_count": 24,
     "metadata": {},
     "output_type": "execute_result"
    }
   ],
   "source": [
    "df_filtered.describe()"
   ]
  },
  {
   "cell_type": "code",
   "execution_count": 25,
   "metadata": {
    "id": "wp5Jyj7CvrNx"
   },
   "outputs": [],
   "source": [
    "# standardisasi & normalisasi ?\n",
    "from sklearn.preprocessing import MinMaxScaler, StandardScaler\n",
    "df_filtered['Cost_of_the_Product'] = MinMaxScaler().fit_transform(df_filtered['Cost_of_the_Product'].values.reshape(len(df_filtered), 1))\n",
    "df_filtered['Weight_in_gms'] = MinMaxScaler().fit_transform(df_filtered['Weight_in_gms'].values.reshape(len(df_filtered), 1))\n",
    "df_filtered['cashback'] = MinMaxScaler().fit_transform(df_filtered['cashback'].values.reshape(len(df_filtered), 1))\n",
    "df_filtered['cost_after_discount'] = MinMaxScaler().fit_transform(df_filtered['cost_after_discount'].values.reshape(len(df_filtered), 1))\n",
    "df_filtered['Customer_care_calls'] = MinMaxScaler().fit_transform(df_filtered['Customer_care_calls'].values.reshape(len(df_filtered), 1))\n",
    "df_filtered['Customer_rating'] = MinMaxScaler().fit_transform(df_filtered['Customer_rating'].values.reshape(len(df_filtered), 1))\n",
    "df_filtered['Prior_purchases'] = MinMaxScaler().fit_transform(df_filtered['Prior_purchases'].values.reshape(len(df_filtered), 1))"
   ]
  },
  {
   "cell_type": "code",
   "execution_count": 26,
   "metadata": {},
   "outputs": [
    {
     "data": {
      "text/html": [
       "<div>\n",
       "<style scoped>\n",
       "    .dataframe tbody tr th:only-of-type {\n",
       "        vertical-align: middle;\n",
       "    }\n",
       "\n",
       "    .dataframe tbody tr th {\n",
       "        vertical-align: top;\n",
       "    }\n",
       "\n",
       "    .dataframe thead th {\n",
       "        text-align: right;\n",
       "    }\n",
       "</style>\n",
       "<table border=\"1\" class=\"dataframe\">\n",
       "  <thead>\n",
       "    <tr style=\"text-align: right;\">\n",
       "      <th></th>\n",
       "      <th>Customer_care_calls</th>\n",
       "      <th>Customer_rating</th>\n",
       "      <th>Cost_of_the_Product</th>\n",
       "      <th>Prior_purchases</th>\n",
       "      <th>Discount_offered</th>\n",
       "      <th>Weight_in_gms</th>\n",
       "      <th>Reached.on.Time_Y.N</th>\n",
       "      <th>cashback</th>\n",
       "      <th>cost_after_discount</th>\n",
       "    </tr>\n",
       "  </thead>\n",
       "  <tbody>\n",
       "    <tr>\n",
       "      <th>count</th>\n",
       "      <td>9214.000000</td>\n",
       "      <td>9214.000000</td>\n",
       "      <td>9214.000000</td>\n",
       "      <td>9214.000000</td>\n",
       "      <td>9214.0</td>\n",
       "      <td>9214.000000</td>\n",
       "      <td>9214.000000</td>\n",
       "      <td>9214.000000</td>\n",
       "      <td>9214.000000</td>\n",
       "    </tr>\n",
       "    <tr>\n",
       "      <th>mean</th>\n",
       "      <td>0.422205</td>\n",
       "      <td>0.498399</td>\n",
       "      <td>0.539339</td>\n",
       "      <td>0.202776</td>\n",
       "      <td>0.0</td>\n",
       "      <td>0.433940</td>\n",
       "      <td>0.518559</td>\n",
       "      <td>0.260849</td>\n",
       "      <td>0.577072</td>\n",
       "    </tr>\n",
       "    <tr>\n",
       "      <th>std</th>\n",
       "      <td>0.231873</td>\n",
       "      <td>0.352926</td>\n",
       "      <td>0.227482</td>\n",
       "      <td>0.190072</td>\n",
       "      <td>0.0</td>\n",
       "      <td>0.250315</td>\n",
       "      <td>0.499683</td>\n",
       "      <td>0.193370</td>\n",
       "      <td>0.187939</td>\n",
       "    </tr>\n",
       "    <tr>\n",
       "      <th>min</th>\n",
       "      <td>0.000000</td>\n",
       "      <td>0.000000</td>\n",
       "      <td>0.000000</td>\n",
       "      <td>0.000000</td>\n",
       "      <td>0.0</td>\n",
       "      <td>0.000000</td>\n",
       "      <td>0.000000</td>\n",
       "      <td>0.000000</td>\n",
       "      <td>0.000000</td>\n",
       "    </tr>\n",
       "    <tr>\n",
       "      <th>25%</th>\n",
       "      <td>0.200000</td>\n",
       "      <td>0.250000</td>\n",
       "      <td>0.345794</td>\n",
       "      <td>0.125000</td>\n",
       "      <td>0.0</td>\n",
       "      <td>0.132572</td>\n",
       "      <td>0.000000</td>\n",
       "      <td>0.115385</td>\n",
       "      <td>0.426357</td>\n",
       "    </tr>\n",
       "    <tr>\n",
       "      <th>50%</th>\n",
       "      <td>0.400000</td>\n",
       "      <td>0.500000</td>\n",
       "      <td>0.565421</td>\n",
       "      <td>0.125000</td>\n",
       "      <td>0.0</td>\n",
       "      <td>0.521634</td>\n",
       "      <td>1.000000</td>\n",
       "      <td>0.230769</td>\n",
       "      <td>0.596899</td>\n",
       "    </tr>\n",
       "    <tr>\n",
       "      <th>75%</th>\n",
       "      <td>0.600000</td>\n",
       "      <td>0.750000</td>\n",
       "      <td>0.728972</td>\n",
       "      <td>0.250000</td>\n",
       "      <td>0.0</td>\n",
       "      <td>0.638986</td>\n",
       "      <td>1.000000</td>\n",
       "      <td>0.346154</td>\n",
       "      <td>0.732558</td>\n",
       "    </tr>\n",
       "    <tr>\n",
       "      <th>max</th>\n",
       "      <td>1.000000</td>\n",
       "      <td>1.000000</td>\n",
       "      <td>1.000000</td>\n",
       "      <td>1.000000</td>\n",
       "      <td>0.0</td>\n",
       "      <td>1.000000</td>\n",
       "      <td>1.000000</td>\n",
       "      <td>1.000000</td>\n",
       "      <td>1.000000</td>\n",
       "    </tr>\n",
       "  </tbody>\n",
       "</table>\n",
       "</div>"
      ],
      "text/plain": [
       "       Customer_care_calls  Customer_rating  Cost_of_the_Product  \\\n",
       "count          9214.000000      9214.000000          9214.000000   \n",
       "mean              0.422205         0.498399             0.539339   \n",
       "std               0.231873         0.352926             0.227482   \n",
       "min               0.000000         0.000000             0.000000   \n",
       "25%               0.200000         0.250000             0.345794   \n",
       "50%               0.400000         0.500000             0.565421   \n",
       "75%               0.600000         0.750000             0.728972   \n",
       "max               1.000000         1.000000             1.000000   \n",
       "\n",
       "       Prior_purchases  Discount_offered  Weight_in_gms  Reached.on.Time_Y.N  \\\n",
       "count      9214.000000            9214.0    9214.000000          9214.000000   \n",
       "mean          0.202776               0.0       0.433940             0.518559   \n",
       "std           0.190072               0.0       0.250315             0.499683   \n",
       "min           0.000000               0.0       0.000000             0.000000   \n",
       "25%           0.125000               0.0       0.132572             0.000000   \n",
       "50%           0.125000               0.0       0.521634             1.000000   \n",
       "75%           0.250000               0.0       0.638986             1.000000   \n",
       "max           1.000000               0.0       1.000000             1.000000   \n",
       "\n",
       "          cashback  cost_after_discount  \n",
       "count  9214.000000          9214.000000  \n",
       "mean      0.260849             0.577072  \n",
       "std       0.193370             0.187939  \n",
       "min       0.000000             0.000000  \n",
       "25%       0.115385             0.426357  \n",
       "50%       0.230769             0.596899  \n",
       "75%       0.346154             0.732558  \n",
       "max       1.000000             1.000000  "
      ]
     },
     "execution_count": 26,
     "metadata": {},
     "output_type": "execute_result"
    }
   ],
   "source": [
    "df_filtered.describe()"
   ]
  },
  {
   "cell_type": "markdown",
   "metadata": {
    "id": "YvjSzogw6dJB"
   },
   "source": [
    "### Feature encoding"
   ]
  },
  {
   "cell_type": "code",
   "execution_count": 27,
   "metadata": {
    "colab": {
     "base_uri": "https://localhost:8080/"
    },
    "id": "JwXYQYvpo5CO",
    "outputId": "e0fa1519-5d5b-4a95-ccd9-b9db8669d8b1"
   },
   "outputs": [
    {
     "data": {
      "text/plain": [
       "['Warehouse_block', 'Mode_of_Shipment', 'Product_importance', 'Gender']"
      ]
     },
     "execution_count": 27,
     "metadata": {},
     "output_type": "execute_result"
    }
   ],
   "source": [
    "cats"
   ]
  },
  {
   "cell_type": "code",
   "execution_count": 28,
   "metadata": {},
   "outputs": [],
   "source": [
    "cats = ['Warehouse_block','Mode_of_Shipment','Product_importance']\n",
    "cats2 = ['Gender']"
   ]
  },
  {
   "cell_type": "code",
   "execution_count": 29,
   "metadata": {
    "id": "qUm1cXxw6fRq"
   },
   "outputs": [],
   "source": [
    "for i in cats:\n",
    "    onehots= pd.get_dummies(df_filtered[cats], prefix = 'cat')\n",
    "    df_final = df_filtered.join(onehots)"
   ]
  },
  {
   "cell_type": "code",
   "execution_count": 30,
   "metadata": {},
   "outputs": [],
   "source": [
    "for i in cats2:\n",
    "    onehots= pd.get_dummies(df_filtered[cats2], prefix = 'Gender')\n",
    "    df_final2 = df_final.join(onehots)"
   ]
  },
  {
   "cell_type": "code",
   "execution_count": 31,
   "metadata": {
    "id": "jvo_V3nw7J_3"
   },
   "outputs": [],
   "source": [
    "df_final = df_final.drop(columns=cats).copy()"
   ]
  },
  {
   "cell_type": "code",
   "execution_count": 32,
   "metadata": {
    "colab": {
     "base_uri": "https://localhost:8080/",
     "height": 226
    },
    "id": "wQCOJY1961PR",
    "outputId": "2e120ff0-37e8-4713-b9b2-37c0ab9830d1"
   },
   "outputs": [
    {
     "data": {
      "text/html": [
       "<div>\n",
       "<style scoped>\n",
       "    .dataframe tbody tr th:only-of-type {\n",
       "        vertical-align: middle;\n",
       "    }\n",
       "\n",
       "    .dataframe tbody tr th {\n",
       "        vertical-align: top;\n",
       "    }\n",
       "\n",
       "    .dataframe thead th {\n",
       "        text-align: right;\n",
       "    }\n",
       "</style>\n",
       "<table border=\"1\" class=\"dataframe\">\n",
       "  <thead>\n",
       "    <tr style=\"text-align: right;\">\n",
       "      <th></th>\n",
       "      <th>Customer_care_calls</th>\n",
       "      <th>Customer_rating</th>\n",
       "      <th>Cost_of_the_Product</th>\n",
       "      <th>Prior_purchases</th>\n",
       "      <th>Gender</th>\n",
       "      <th>Discount_offered</th>\n",
       "      <th>Weight_in_gms</th>\n",
       "      <th>Reached.on.Time_Y.N</th>\n",
       "      <th>cashback</th>\n",
       "      <th>cost_after_discount</th>\n",
       "      <th>...</th>\n",
       "      <th>cat_B</th>\n",
       "      <th>cat_C</th>\n",
       "      <th>cat_D</th>\n",
       "      <th>cat_F</th>\n",
       "      <th>cat_Flight</th>\n",
       "      <th>cat_Road</th>\n",
       "      <th>cat_Ship</th>\n",
       "      <th>cat_high</th>\n",
       "      <th>cat_low</th>\n",
       "      <th>cat_medium</th>\n",
       "    </tr>\n",
       "  </thead>\n",
       "  <tbody>\n",
       "    <tr>\n",
       "      <th>683</th>\n",
       "      <td>0.4</td>\n",
       "      <td>1.00</td>\n",
       "      <td>0.191589</td>\n",
       "      <td>0.250</td>\n",
       "      <td>M</td>\n",
       "      <td>0</td>\n",
       "      <td>0.039624</td>\n",
       "      <td>1</td>\n",
       "      <td>0.750000</td>\n",
       "      <td>0.189922</td>\n",
       "      <td>...</td>\n",
       "      <td>0</td>\n",
       "      <td>0</td>\n",
       "      <td>0</td>\n",
       "      <td>1</td>\n",
       "      <td>1</td>\n",
       "      <td>0</td>\n",
       "      <td>0</td>\n",
       "      <td>1</td>\n",
       "      <td>0</td>\n",
       "      <td>0</td>\n",
       "    </tr>\n",
       "    <tr>\n",
       "      <th>5140</th>\n",
       "      <td>0.4</td>\n",
       "      <td>1.00</td>\n",
       "      <td>0.630841</td>\n",
       "      <td>0.250</td>\n",
       "      <td>M</td>\n",
       "      <td>0</td>\n",
       "      <td>0.687263</td>\n",
       "      <td>0</td>\n",
       "      <td>0.384615</td>\n",
       "      <td>0.627907</td>\n",
       "      <td>...</td>\n",
       "      <td>0</td>\n",
       "      <td>1</td>\n",
       "      <td>0</td>\n",
       "      <td>0</td>\n",
       "      <td>0</td>\n",
       "      <td>0</td>\n",
       "      <td>1</td>\n",
       "      <td>0</td>\n",
       "      <td>0</td>\n",
       "      <td>1</td>\n",
       "    </tr>\n",
       "    <tr>\n",
       "      <th>7290</th>\n",
       "      <td>0.2</td>\n",
       "      <td>0.75</td>\n",
       "      <td>0.700935</td>\n",
       "      <td>0.125</td>\n",
       "      <td>F</td>\n",
       "      <td>0</td>\n",
       "      <td>0.496736</td>\n",
       "      <td>1</td>\n",
       "      <td>0.038462</td>\n",
       "      <td>0.755814</td>\n",
       "      <td>...</td>\n",
       "      <td>0</td>\n",
       "      <td>0</td>\n",
       "      <td>1</td>\n",
       "      <td>0</td>\n",
       "      <td>0</td>\n",
       "      <td>0</td>\n",
       "      <td>1</td>\n",
       "      <td>1</td>\n",
       "      <td>0</td>\n",
       "      <td>0</td>\n",
       "    </tr>\n",
       "    <tr>\n",
       "      <th>5823</th>\n",
       "      <td>0.2</td>\n",
       "      <td>1.00</td>\n",
       "      <td>0.710280</td>\n",
       "      <td>0.000</td>\n",
       "      <td>M</td>\n",
       "      <td>0</td>\n",
       "      <td>0.650676</td>\n",
       "      <td>1</td>\n",
       "      <td>0.134615</td>\n",
       "      <td>0.744186</td>\n",
       "      <td>...</td>\n",
       "      <td>1</td>\n",
       "      <td>0</td>\n",
       "      <td>0</td>\n",
       "      <td>0</td>\n",
       "      <td>0</td>\n",
       "      <td>0</td>\n",
       "      <td>1</td>\n",
       "      <td>1</td>\n",
       "      <td>0</td>\n",
       "      <td>0</td>\n",
       "    </tr>\n",
       "    <tr>\n",
       "      <th>1086</th>\n",
       "      <td>0.4</td>\n",
       "      <td>0.25</td>\n",
       "      <td>0.373832</td>\n",
       "      <td>0.125</td>\n",
       "      <td>M</td>\n",
       "      <td>0</td>\n",
       "      <td>0.137847</td>\n",
       "      <td>1</td>\n",
       "      <td>0.769231</td>\n",
       "      <td>0.337209</td>\n",
       "      <td>...</td>\n",
       "      <td>0</td>\n",
       "      <td>0</td>\n",
       "      <td>1</td>\n",
       "      <td>0</td>\n",
       "      <td>0</td>\n",
       "      <td>1</td>\n",
       "      <td>0</td>\n",
       "      <td>0</td>\n",
       "      <td>1</td>\n",
       "      <td>0</td>\n",
       "    </tr>\n",
       "  </tbody>\n",
       "</table>\n",
       "<p>5 rows × 21 columns</p>\n",
       "</div>"
      ],
      "text/plain": [
       "      Customer_care_calls  Customer_rating  Cost_of_the_Product  \\\n",
       "683                   0.4             1.00             0.191589   \n",
       "5140                  0.4             1.00             0.630841   \n",
       "7290                  0.2             0.75             0.700935   \n",
       "5823                  0.2             1.00             0.710280   \n",
       "1086                  0.4             0.25             0.373832   \n",
       "\n",
       "      Prior_purchases Gender  Discount_offered  Weight_in_gms  \\\n",
       "683             0.250      M                 0       0.039624   \n",
       "5140            0.250      M                 0       0.687263   \n",
       "7290            0.125      F                 0       0.496736   \n",
       "5823            0.000      M                 0       0.650676   \n",
       "1086            0.125      M                 0       0.137847   \n",
       "\n",
       "      Reached.on.Time_Y.N  cashback  cost_after_discount  ...  cat_B  cat_C  \\\n",
       "683                     1  0.750000             0.189922  ...      0      0   \n",
       "5140                    0  0.384615             0.627907  ...      0      1   \n",
       "7290                    1  0.038462             0.755814  ...      0      0   \n",
       "5823                    1  0.134615             0.744186  ...      1      0   \n",
       "1086                    1  0.769231             0.337209  ...      0      0   \n",
       "\n",
       "      cat_D  cat_F  cat_Flight  cat_Road  cat_Ship  cat_high  cat_low  \\\n",
       "683       0      1           1         0         0         1        0   \n",
       "5140      0      0           0         0         1         0        0   \n",
       "7290      1      0           0         0         1         1        0   \n",
       "5823      0      0           0         0         1         1        0   \n",
       "1086      1      0           0         1         0         0        1   \n",
       "\n",
       "      cat_medium  \n",
       "683            0  \n",
       "5140           1  \n",
       "7290           0  \n",
       "5823           0  \n",
       "1086           0  \n",
       "\n",
       "[5 rows x 21 columns]"
      ]
     },
     "execution_count": 32,
     "metadata": {},
     "output_type": "execute_result"
    }
   ],
   "source": [
    "df_final.sample(5)"
   ]
  },
  {
   "cell_type": "code",
   "execution_count": 33,
   "metadata": {},
   "outputs": [],
   "source": [
    "for i in cats2:\n",
    "    onehots= pd.get_dummies(df_filtered[cats2], prefix = 'Gender')\n",
    "    df_final2 = df_final.join(onehots)"
   ]
  },
  {
   "cell_type": "code",
   "execution_count": 34,
   "metadata": {},
   "outputs": [],
   "source": [
    "df_final2 = df_final2.drop(columns=cats2).copy()"
   ]
  },
  {
   "cell_type": "markdown",
   "metadata": {
    "id": "g37H_OMI6ndA"
   },
   "source": [
    "### Class Imbalance"
   ]
  },
  {
   "cell_type": "code",
   "execution_count": 35,
   "metadata": {
    "id": "p8xRzTD7xXnc"
   },
   "outputs": [],
   "source": [
    "# udah seimbang"
   ]
  },
  {
   "cell_type": "code",
   "execution_count": 36,
   "metadata": {},
   "outputs": [
    {
     "name": "stdout",
     "output_type": "stream",
     "text": [
      "<class 'pandas.core.frame.DataFrame'>\n",
      "Int64Index: 9214 entries, 3 to 10998\n",
      "Data columns (total 22 columns):\n",
      " #   Column               Non-Null Count  Dtype  \n",
      "---  ------               --------------  -----  \n",
      " 0   Customer_care_calls  9214 non-null   float64\n",
      " 1   Customer_rating      9214 non-null   float64\n",
      " 2   Cost_of_the_Product  9214 non-null   float64\n",
      " 3   Prior_purchases      9214 non-null   float64\n",
      " 4   Discount_offered     9214 non-null   int64  \n",
      " 5   Weight_in_gms        9214 non-null   float64\n",
      " 6   Reached.on.Time_Y.N  9214 non-null   int64  \n",
      " 7   cashback             9214 non-null   float64\n",
      " 8   cost_after_discount  9214 non-null   float64\n",
      " 9   cat_A                9214 non-null   uint8  \n",
      " 10  cat_B                9214 non-null   uint8  \n",
      " 11  cat_C                9214 non-null   uint8  \n",
      " 12  cat_D                9214 non-null   uint8  \n",
      " 13  cat_F                9214 non-null   uint8  \n",
      " 14  cat_Flight           9214 non-null   uint8  \n",
      " 15  cat_Road             9214 non-null   uint8  \n",
      " 16  cat_Ship             9214 non-null   uint8  \n",
      " 17  cat_high             9214 non-null   uint8  \n",
      " 18  cat_low              9214 non-null   uint8  \n",
      " 19  cat_medium           9214 non-null   uint8  \n",
      " 20  Gender_F             9214 non-null   uint8  \n",
      " 21  Gender_M             9214 non-null   uint8  \n",
      "dtypes: float64(7), int64(2), uint8(13)\n",
      "memory usage: 1.1 MB\n"
     ]
    }
   ],
   "source": [
    "df_final2.info()"
   ]
  },
  {
   "cell_type": "code",
   "execution_count": 37,
   "metadata": {},
   "outputs": [],
   "source": [
    "df_final2['cat_A'] = df_final2['cat_A'].apply(np.int64)\n",
    "df_final2['cat_B'] = df_final2['cat_B'].apply(np.int64)\n",
    "df_final2['cat_C'] = df_final2['cat_C'].apply(np.int64)\n",
    "df_final2['cat_D'] = df_final2['cat_D'].apply(np.int64)\n",
    "df_final2['cat_F'] = df_final2['cat_F'].apply(np.int64)\n",
    "df_final2['cat_Flight'] = df_final2['cat_Flight'].apply(np.int64)\n",
    "df_final2['cat_Road'] = df_final2['cat_Road'].apply(np.int64)\n",
    "df_final2['cat_Ship'] = df_final2['cat_Ship'].apply(np.int64)\n",
    "df_final2['cat_high'] = df_final2['cat_high'].apply(np.int64)\n",
    "df_final2['cat_low'] = df_final2['cat_low'].apply(np.int64)\n",
    "df_final2['cat_medium'] = df_final2['cat_medium'].apply(np.int64)\n",
    "df_final2['Gender_F'] = df_final2['Gender_F'].apply(np.int64)\n",
    "df_final2['Gender_M'] = df_final2['Gender_M'].apply(np.int64)"
   ]
  },
  {
   "cell_type": "code",
   "execution_count": 38,
   "metadata": {},
   "outputs": [
    {
     "name": "stdout",
     "output_type": "stream",
     "text": [
      "<class 'pandas.core.frame.DataFrame'>\n",
      "Int64Index: 9214 entries, 3 to 10998\n",
      "Data columns (total 22 columns):\n",
      " #   Column               Non-Null Count  Dtype  \n",
      "---  ------               --------------  -----  \n",
      " 0   Customer_care_calls  9214 non-null   float64\n",
      " 1   Customer_rating      9214 non-null   float64\n",
      " 2   Cost_of_the_Product  9214 non-null   float64\n",
      " 3   Prior_purchases      9214 non-null   float64\n",
      " 4   Discount_offered     9214 non-null   int64  \n",
      " 5   Weight_in_gms        9214 non-null   float64\n",
      " 6   Reached.on.Time_Y.N  9214 non-null   int64  \n",
      " 7   cashback             9214 non-null   float64\n",
      " 8   cost_after_discount  9214 non-null   float64\n",
      " 9   cat_A                9214 non-null   int64  \n",
      " 10  cat_B                9214 non-null   int64  \n",
      " 11  cat_C                9214 non-null   int64  \n",
      " 12  cat_D                9214 non-null   int64  \n",
      " 13  cat_F                9214 non-null   int64  \n",
      " 14  cat_Flight           9214 non-null   int64  \n",
      " 15  cat_Road             9214 non-null   int64  \n",
      " 16  cat_Ship             9214 non-null   int64  \n",
      " 17  cat_high             9214 non-null   int64  \n",
      " 18  cat_low              9214 non-null   int64  \n",
      " 19  cat_medium           9214 non-null   int64  \n",
      " 20  Gender_F             9214 non-null   int64  \n",
      " 21  Gender_M             9214 non-null   int64  \n",
      "dtypes: float64(7), int64(15)\n",
      "memory usage: 1.9 MB\n"
     ]
    }
   ],
   "source": [
    "df_final2.info()"
   ]
  },
  {
   "cell_type": "code",
   "execution_count": 39,
   "metadata": {},
   "outputs": [
    {
     "data": {
      "text/html": [
       "<div>\n",
       "<style scoped>\n",
       "    .dataframe tbody tr th:only-of-type {\n",
       "        vertical-align: middle;\n",
       "    }\n",
       "\n",
       "    .dataframe tbody tr th {\n",
       "        vertical-align: top;\n",
       "    }\n",
       "\n",
       "    .dataframe thead th {\n",
       "        text-align: right;\n",
       "    }\n",
       "</style>\n",
       "<table border=\"1\" class=\"dataframe\">\n",
       "  <thead>\n",
       "    <tr style=\"text-align: right;\">\n",
       "      <th></th>\n",
       "      <th>Customer_care_calls</th>\n",
       "      <th>Customer_rating</th>\n",
       "      <th>Cost_of_the_Product</th>\n",
       "      <th>Prior_purchases</th>\n",
       "      <th>Discount_offered</th>\n",
       "      <th>Weight_in_gms</th>\n",
       "      <th>Reached.on.Time_Y.N</th>\n",
       "      <th>cashback</th>\n",
       "      <th>cost_after_discount</th>\n",
       "      <th>cat_A</th>\n",
       "      <th>...</th>\n",
       "      <th>cat_D</th>\n",
       "      <th>cat_F</th>\n",
       "      <th>cat_Flight</th>\n",
       "      <th>cat_Road</th>\n",
       "      <th>cat_Ship</th>\n",
       "      <th>cat_high</th>\n",
       "      <th>cat_low</th>\n",
       "      <th>cat_medium</th>\n",
       "      <th>Gender_F</th>\n",
       "      <th>Gender_M</th>\n",
       "    </tr>\n",
       "  </thead>\n",
       "  <tbody>\n",
       "    <tr>\n",
       "      <th>count</th>\n",
       "      <td>9214.000000</td>\n",
       "      <td>9214.000000</td>\n",
       "      <td>9214.000000</td>\n",
       "      <td>9214.000000</td>\n",
       "      <td>9214.0</td>\n",
       "      <td>9214.000000</td>\n",
       "      <td>9214.000000</td>\n",
       "      <td>9214.000000</td>\n",
       "      <td>9214.000000</td>\n",
       "      <td>9214.000000</td>\n",
       "      <td>...</td>\n",
       "      <td>9214.000000</td>\n",
       "      <td>9214.000000</td>\n",
       "      <td>9214.000000</td>\n",
       "      <td>9214.000000</td>\n",
       "      <td>9214.000000</td>\n",
       "      <td>9214.000000</td>\n",
       "      <td>9214.000000</td>\n",
       "      <td>9214.000000</td>\n",
       "      <td>9214.000000</td>\n",
       "      <td>9214.000000</td>\n",
       "    </tr>\n",
       "    <tr>\n",
       "      <th>mean</th>\n",
       "      <td>0.422205</td>\n",
       "      <td>0.498399</td>\n",
       "      <td>0.539339</td>\n",
       "      <td>0.202776</td>\n",
       "      <td>0.0</td>\n",
       "      <td>0.433940</td>\n",
       "      <td>0.518559</td>\n",
       "      <td>0.260849</td>\n",
       "      <td>0.577072</td>\n",
       "      <td>0.168439</td>\n",
       "      <td>...</td>\n",
       "      <td>0.167571</td>\n",
       "      <td>0.331452</td>\n",
       "      <td>0.163230</td>\n",
       "      <td>0.159757</td>\n",
       "      <td>0.677013</td>\n",
       "      <td>0.083786</td>\n",
       "      <td>0.486217</td>\n",
       "      <td>0.429998</td>\n",
       "      <td>0.502496</td>\n",
       "      <td>0.497504</td>\n",
       "    </tr>\n",
       "    <tr>\n",
       "      <th>std</th>\n",
       "      <td>0.231873</td>\n",
       "      <td>0.352926</td>\n",
       "      <td>0.227482</td>\n",
       "      <td>0.190072</td>\n",
       "      <td>0.0</td>\n",
       "      <td>0.250315</td>\n",
       "      <td>0.499683</td>\n",
       "      <td>0.193370</td>\n",
       "      <td>0.187939</td>\n",
       "      <td>0.374276</td>\n",
       "      <td>...</td>\n",
       "      <td>0.373505</td>\n",
       "      <td>0.470761</td>\n",
       "      <td>0.369595</td>\n",
       "      <td>0.366400</td>\n",
       "      <td>0.467643</td>\n",
       "      <td>0.277081</td>\n",
       "      <td>0.499837</td>\n",
       "      <td>0.495102</td>\n",
       "      <td>0.500021</td>\n",
       "      <td>0.500021</td>\n",
       "    </tr>\n",
       "    <tr>\n",
       "      <th>min</th>\n",
       "      <td>0.000000</td>\n",
       "      <td>0.000000</td>\n",
       "      <td>0.000000</td>\n",
       "      <td>0.000000</td>\n",
       "      <td>0.0</td>\n",
       "      <td>0.000000</td>\n",
       "      <td>0.000000</td>\n",
       "      <td>0.000000</td>\n",
       "      <td>0.000000</td>\n",
       "      <td>0.000000</td>\n",
       "      <td>...</td>\n",
       "      <td>0.000000</td>\n",
       "      <td>0.000000</td>\n",
       "      <td>0.000000</td>\n",
       "      <td>0.000000</td>\n",
       "      <td>0.000000</td>\n",
       "      <td>0.000000</td>\n",
       "      <td>0.000000</td>\n",
       "      <td>0.000000</td>\n",
       "      <td>0.000000</td>\n",
       "      <td>0.000000</td>\n",
       "    </tr>\n",
       "    <tr>\n",
       "      <th>25%</th>\n",
       "      <td>0.200000</td>\n",
       "      <td>0.250000</td>\n",
       "      <td>0.345794</td>\n",
       "      <td>0.125000</td>\n",
       "      <td>0.0</td>\n",
       "      <td>0.132572</td>\n",
       "      <td>0.000000</td>\n",
       "      <td>0.115385</td>\n",
       "      <td>0.426357</td>\n",
       "      <td>0.000000</td>\n",
       "      <td>...</td>\n",
       "      <td>0.000000</td>\n",
       "      <td>0.000000</td>\n",
       "      <td>0.000000</td>\n",
       "      <td>0.000000</td>\n",
       "      <td>0.000000</td>\n",
       "      <td>0.000000</td>\n",
       "      <td>0.000000</td>\n",
       "      <td>0.000000</td>\n",
       "      <td>0.000000</td>\n",
       "      <td>0.000000</td>\n",
       "    </tr>\n",
       "    <tr>\n",
       "      <th>50%</th>\n",
       "      <td>0.400000</td>\n",
       "      <td>0.500000</td>\n",
       "      <td>0.565421</td>\n",
       "      <td>0.125000</td>\n",
       "      <td>0.0</td>\n",
       "      <td>0.521634</td>\n",
       "      <td>1.000000</td>\n",
       "      <td>0.230769</td>\n",
       "      <td>0.596899</td>\n",
       "      <td>0.000000</td>\n",
       "      <td>...</td>\n",
       "      <td>0.000000</td>\n",
       "      <td>0.000000</td>\n",
       "      <td>0.000000</td>\n",
       "      <td>0.000000</td>\n",
       "      <td>1.000000</td>\n",
       "      <td>0.000000</td>\n",
       "      <td>0.000000</td>\n",
       "      <td>0.000000</td>\n",
       "      <td>1.000000</td>\n",
       "      <td>0.000000</td>\n",
       "    </tr>\n",
       "    <tr>\n",
       "      <th>75%</th>\n",
       "      <td>0.600000</td>\n",
       "      <td>0.750000</td>\n",
       "      <td>0.728972</td>\n",
       "      <td>0.250000</td>\n",
       "      <td>0.0</td>\n",
       "      <td>0.638986</td>\n",
       "      <td>1.000000</td>\n",
       "      <td>0.346154</td>\n",
       "      <td>0.732558</td>\n",
       "      <td>0.000000</td>\n",
       "      <td>...</td>\n",
       "      <td>0.000000</td>\n",
       "      <td>1.000000</td>\n",
       "      <td>0.000000</td>\n",
       "      <td>0.000000</td>\n",
       "      <td>1.000000</td>\n",
       "      <td>0.000000</td>\n",
       "      <td>1.000000</td>\n",
       "      <td>1.000000</td>\n",
       "      <td>1.000000</td>\n",
       "      <td>1.000000</td>\n",
       "    </tr>\n",
       "    <tr>\n",
       "      <th>max</th>\n",
       "      <td>1.000000</td>\n",
       "      <td>1.000000</td>\n",
       "      <td>1.000000</td>\n",
       "      <td>1.000000</td>\n",
       "      <td>0.0</td>\n",
       "      <td>1.000000</td>\n",
       "      <td>1.000000</td>\n",
       "      <td>1.000000</td>\n",
       "      <td>1.000000</td>\n",
       "      <td>1.000000</td>\n",
       "      <td>...</td>\n",
       "      <td>1.000000</td>\n",
       "      <td>1.000000</td>\n",
       "      <td>1.000000</td>\n",
       "      <td>1.000000</td>\n",
       "      <td>1.000000</td>\n",
       "      <td>1.000000</td>\n",
       "      <td>1.000000</td>\n",
       "      <td>1.000000</td>\n",
       "      <td>1.000000</td>\n",
       "      <td>1.000000</td>\n",
       "    </tr>\n",
       "  </tbody>\n",
       "</table>\n",
       "<p>8 rows × 22 columns</p>\n",
       "</div>"
      ],
      "text/plain": [
       "       Customer_care_calls  Customer_rating  Cost_of_the_Product  \\\n",
       "count          9214.000000      9214.000000          9214.000000   \n",
       "mean              0.422205         0.498399             0.539339   \n",
       "std               0.231873         0.352926             0.227482   \n",
       "min               0.000000         0.000000             0.000000   \n",
       "25%               0.200000         0.250000             0.345794   \n",
       "50%               0.400000         0.500000             0.565421   \n",
       "75%               0.600000         0.750000             0.728972   \n",
       "max               1.000000         1.000000             1.000000   \n",
       "\n",
       "       Prior_purchases  Discount_offered  Weight_in_gms  Reached.on.Time_Y.N  \\\n",
       "count      9214.000000            9214.0    9214.000000          9214.000000   \n",
       "mean          0.202776               0.0       0.433940             0.518559   \n",
       "std           0.190072               0.0       0.250315             0.499683   \n",
       "min           0.000000               0.0       0.000000             0.000000   \n",
       "25%           0.125000               0.0       0.132572             0.000000   \n",
       "50%           0.125000               0.0       0.521634             1.000000   \n",
       "75%           0.250000               0.0       0.638986             1.000000   \n",
       "max           1.000000               0.0       1.000000             1.000000   \n",
       "\n",
       "          cashback  cost_after_discount        cat_A  ...        cat_D  \\\n",
       "count  9214.000000          9214.000000  9214.000000  ...  9214.000000   \n",
       "mean      0.260849             0.577072     0.168439  ...     0.167571   \n",
       "std       0.193370             0.187939     0.374276  ...     0.373505   \n",
       "min       0.000000             0.000000     0.000000  ...     0.000000   \n",
       "25%       0.115385             0.426357     0.000000  ...     0.000000   \n",
       "50%       0.230769             0.596899     0.000000  ...     0.000000   \n",
       "75%       0.346154             0.732558     0.000000  ...     0.000000   \n",
       "max       1.000000             1.000000     1.000000  ...     1.000000   \n",
       "\n",
       "             cat_F   cat_Flight     cat_Road     cat_Ship     cat_high  \\\n",
       "count  9214.000000  9214.000000  9214.000000  9214.000000  9214.000000   \n",
       "mean      0.331452     0.163230     0.159757     0.677013     0.083786   \n",
       "std       0.470761     0.369595     0.366400     0.467643     0.277081   \n",
       "min       0.000000     0.000000     0.000000     0.000000     0.000000   \n",
       "25%       0.000000     0.000000     0.000000     0.000000     0.000000   \n",
       "50%       0.000000     0.000000     0.000000     1.000000     0.000000   \n",
       "75%       1.000000     0.000000     0.000000     1.000000     0.000000   \n",
       "max       1.000000     1.000000     1.000000     1.000000     1.000000   \n",
       "\n",
       "           cat_low   cat_medium     Gender_F     Gender_M  \n",
       "count  9214.000000  9214.000000  9214.000000  9214.000000  \n",
       "mean      0.486217     0.429998     0.502496     0.497504  \n",
       "std       0.499837     0.495102     0.500021     0.500021  \n",
       "min       0.000000     0.000000     0.000000     0.000000  \n",
       "25%       0.000000     0.000000     0.000000     0.000000  \n",
       "50%       0.000000     0.000000     1.000000     0.000000  \n",
       "75%       1.000000     1.000000     1.000000     1.000000  \n",
       "max       1.000000     1.000000     1.000000     1.000000  \n",
       "\n",
       "[8 rows x 22 columns]"
      ]
     },
     "execution_count": 39,
     "metadata": {},
     "output_type": "execute_result"
    }
   ],
   "source": [
    "df_final2.describe()"
   ]
  },
  {
   "cell_type": "markdown",
   "metadata": {},
   "source": [
    "# MODELLING"
   ]
  },
  {
   "cell_type": "markdown",
   "metadata": {},
   "source": [
    "## KNN"
   ]
  },
  {
   "cell_type": "markdown",
   "metadata": {},
   "source": [
    "### PREPARATION"
   ]
  },
  {
   "cell_type": "code",
   "execution_count": 40,
   "metadata": {},
   "outputs": [],
   "source": [
    "from sklearn.metrics import accuracy_score, precision_score, recall_score, f1_score, confusion_matrix\n",
    "from sklearn.metrics import auc, roc_curve\n",
    "\n",
    "def matrics_evaluation(model, pred, xtrain, ytrain, xtest, ytest):\n",
    "    print('accuracy score = %.2f' % accuracy_score(ytest, pred))\n",
    "    print('precision score = %.2f' %precision_score(ytest, pred))\n",
    "    print('recall score = %.2f' %recall_score(ytest, pred))\n",
    "    print('f1 score = %.2f' % f1_score(ytest, pred))\n",
    "    print(confusion_matrix (ytest, pred))\n",
    "          \n",
    "    fpr, tpr, thresholds = roc_curve (ytest, pred, pos_label = 1)\n",
    "    print('AUC = %.2f' %auc(fpr, tpr))\n",
    "    \n",
    "def show_feature_importance (model):\n",
    "    feat_importance = pd.Series(model.feature_importances_, index = x.columns)\n",
    "    ax = feat_importance.nlargest(25).plot(kind='barh',figsize=(10,8))\n",
    "    ax.invert_yaxis()\n",
    "    \n",
    "    plt. xlabel('score')\n",
    "    plt.ylabel('features')\n",
    "    plt.title('features_score')"
   ]
  },
  {
   "cell_type": "code",
   "execution_count": 41,
   "metadata": {},
   "outputs": [],
   "source": [
    "from sklearn.model_selection import train_test_split\n",
    "\n",
    "x = df_final2.drop(columns = ['Reached.on.Time_Y.N'])\n",
    "y = df_final2[['Reached.on.Time_Y.N']]\n",
    "\n",
    "xtrain, xtest, ytrain, ytest = train_test_split(x,y, test_size = 0.3, random_state=42)"
   ]
  },
  {
   "cell_type": "code",
   "execution_count": 42,
   "metadata": {},
   "outputs": [
    {
     "name": "stdout",
     "output_type": "stream",
     "text": [
      "(2765, 21)\n",
      "(2765, 1)\n",
      "(6449, 21)\n",
      "(6449, 1)\n"
     ]
    }
   ],
   "source": [
    "print(xtest.shape)\n",
    "print(ytest.shape)\n",
    "print(xtrain.shape)\n",
    "print(ytrain.shape)"
   ]
  },
  {
   "cell_type": "code",
   "execution_count": 43,
   "metadata": {},
   "outputs": [
    {
     "name": "stdout",
     "output_type": "stream",
     "text": [
      "accuracy score = 0.55\n",
      "precision score = 0.57\n",
      "recall score = 0.54\n",
      "f1 score = 0.55\n",
      "[[765 585]\n",
      " [650 765]]\n",
      "AUC = 0.55\n"
     ]
    }
   ],
   "source": [
    "from sklearn.neighbors import KNeighborsClassifier\n",
    "\n",
    "kn = KNeighborsClassifier()\n",
    "kn.fit(xtrain,ytrain)\n",
    "\n",
    "pred = kn.predict (xtest)\n",
    "matrics_evaluation(kn, pred, xtrain, ytrain, xtest, ytest)"
   ]
  },
  {
   "cell_type": "code",
   "execution_count": 44,
   "metadata": {},
   "outputs": [
    {
     "name": "stdout",
     "output_type": "stream",
     "text": [
      "Train score :0.7317413552488758\n",
      "Test Score :0.5533453887884268\n"
     ]
    }
   ],
   "source": [
    "print('Train score :' +str(kn.score(xtrain, ytrain)))\n",
    "print('Test Score :' +str(kn.score(xtest, ytest)))"
   ]
  },
  {
   "cell_type": "markdown",
   "metadata": {},
   "source": [
    "## Tuning Hyper KNN"
   ]
  },
  {
   "cell_type": "code",
   "execution_count": 45,
   "metadata": {},
   "outputs": [
    {
     "name": "stdout",
     "output_type": "stream",
     "text": [
      "accuracy score = 0.55\n",
      "precision score = 0.56\n",
      "recall score = 0.57\n",
      "f1 score = 0.56\n",
      "[[711 639]\n",
      " [612 803]]\n",
      "AUC = 0.55\n",
      "Train Score = 1.0\n",
      "Test Score = 0.5674911660777385\n"
     ]
    }
   ],
   "source": [
    "from sklearn.model_selection import RandomizedSearchCV, GridSearchCV\n",
    "\n",
    "# List Parameter\n",
    "n_neighbors = list(range(1,24))\n",
    "p = [1,2]  #pakai manhattan distance, dan euclidean distance\n",
    "algorithm = ['auto','brute','kd_tree','ball_tree']\n",
    "weight =['uniform', 'distance']\n",
    "\n",
    "#tuning\n",
    "hyperparameter = dict (n_neighbors = n_neighbors, p=p, algorithm = algorithm, weights=weight)\n",
    "\n",
    "#Initiate\n",
    "kn = KNeighborsClassifier()\n",
    "model = RandomizedSearchCV (kn, hyperparameter, cv=7, random_state=42, scoring = 'recall',\n",
    "                            n_iter = 100)\n",
    "\n",
    "#fit, pred and evaluation\n",
    "model.fit(xtrain, ytrain)\n",
    "pred = model.predict(xtest)\n",
    "matrics_evaluation(model, pred, xtrain, ytrain, xtest, ytest)\n",
    "print('Train Score = ' +str(model.score(xtrain, ytrain)))\n",
    "print('Test Score = ' +str(model.score(xtest,ytest)))"
   ]
  },
  {
   "cell_type": "code",
   "execution_count": 46,
   "metadata": {},
   "outputs": [
    {
     "name": "stdout",
     "output_type": "stream",
     "text": [
      "best n =  1\n",
      "best p =  2\n",
      "best algorithm =  auto\n",
      "best wight =  distance\n"
     ]
    }
   ],
   "source": [
    "print('best n = ', model.best_estimator_.get_params()['n_neighbors'])\n",
    "print('best p = ', model.best_estimator_.get_params()['p'])\n",
    "print('best algorithm = ', model.best_estimator_.get_params()['algorithm'])\n",
    "print('best wight = ', model.best_estimator_.get_params()['weights'])"
   ]
  },
  {
   "cell_type": "code",
   "execution_count": 47,
   "metadata": {},
   "outputs": [
    {
     "name": "stdout",
     "output_type": "stream",
     "text": [
      "Train Score = 1.0\n",
      "Test Score = 0.5674911660777385\n"
     ]
    }
   ],
   "source": [
    "print('Train Score = ' +str(model.score(xtrain, ytrain)))\n",
    "print('Test Score = ' +str(model.score(xtest,ytest)))"
   ]
  },
  {
   "cell_type": "markdown",
   "metadata": {},
   "source": [
    "## Boosting AdaBoost"
   ]
  },
  {
   "cell_type": "code",
   "execution_count": 48,
   "metadata": {},
   "outputs": [
    {
     "name": "stdout",
     "output_type": "stream",
     "text": [
      "accuracy score = 0.62\n",
      "precision score = 0.66\n",
      "recall score = 0.53\n",
      "f1 score = 0.59\n",
      "[[972 378]\n",
      " [672 743]]\n",
      "AUC = 0.62\n"
     ]
    }
   ],
   "source": [
    "from sklearn.ensemble import AdaBoostClassifier\n",
    "\n",
    "ad = AdaBoostClassifier(random_state=42)\n",
    "ad.fit (xtrain, ytrain)\n",
    "\n",
    "pred = ad.predict(xtest)\n",
    "matrics_evaluation(ad, pred, xtrain, ytrain, xtest, ytest)"
   ]
  },
  {
   "cell_type": "code",
   "execution_count": 49,
   "metadata": {},
   "outputs": [
    {
     "name": "stdout",
     "output_type": "stream",
     "text": [
      "Train score :0.6152891921228097\n",
      "Test Score :0.620253164556962\n"
     ]
    }
   ],
   "source": [
    "print('Train score :' +str(ad.score(xtrain, ytrain)))\n",
    "print('Test Score :' +str(ad.score(xtest, ytest)))"
   ]
  },
  {
   "cell_type": "markdown",
   "metadata": {},
   "source": [
    "-over fitting sehingga perlu dilakukan tuning hyperparam"
   ]
  },
  {
   "cell_type": "markdown",
   "metadata": {},
   "source": [
    "## Tuning Hyper AdaBoost"
   ]
  },
  {
   "cell_type": "markdown",
   "metadata": {},
   "source": [
    "<b>Hyperparameter yang biasa di tuning pada Adaboost:</b> (<a href='https://scikit-learn.org/stable/modules/generated/sklearn.ensemble.AdaBoostClassifier.html'>Dokumentasi Sklearn Adaboost</a>)\n",
    "- base_estimator: algoritma dasar yang digunakan pada boosting, untuk adaboost defaultnya adalah Decision Tree\n",
    "- n_estimators: jumlah iterasi pada boosting\n",
    "- learning_rate: learning rate untuk memperbaiki dari new-model ke old-model pada iterasi selanjutnya. angka yang direkomendasikan < 0.1\n",
    "    - ada tradeoff antara learning rate dan n_estimators. semakin kecil learning_rate, diharap n_estimators semakin besar agar dapat menemukan error yang minimum dengan baik\n",
    "- algorithm: algoritma yang digunakan untuk update weight. SAMME.R memungkinkan untuk mendapatkan hasil yang lebih cepat dengan iterasi yang lebih sedikit"
   ]
  },
  {
   "cell_type": "code",
   "execution_count": 50,
   "metadata": {},
   "outputs": [
    {
     "name": "stdout",
     "output_type": "stream",
     "text": [
      "accuracy score = 0.61\n",
      "precision score = 0.65\n",
      "recall score = 0.54\n",
      "f1 score = 0.59\n",
      "[[938 412]\n",
      " [655 760]]\n",
      "AUC = 0.62\n"
     ]
    }
   ],
   "source": [
    "from sklearn.model_selection import RandomizedSearchCV, GridSearchCV\n",
    "import numpy as np\n",
    "\n",
    "# List of hyperparameter\n",
    "hyperparameters = dict(n_estimators = [int(x) for x in np.linspace(start = 1, stop = 100, num = 300)], # Jumlah iterasi\n",
    "                       learning_rate = [float(x) for x in np.linspace(start = 0.001, stop = 1, num = 100)],  \n",
    "                       algorithm = ['SAMME.R']\n",
    "                      )\n",
    "\n",
    "# Init model\n",
    "ab = AdaBoostClassifier(random_state=42)\n",
    "ab_tuned = RandomizedSearchCV(ab, hyperparameters, random_state=42, cv=5, scoring='recall', n_iter = 100)\n",
    "ab_tuned.fit(xtrain,ytrain)\n",
    "\n",
    "# Predict & Evaluation\n",
    "pred = ab_tuned.predict(xtest)#Check performa dari model\n",
    "matrics_evaluation(ab_tuned, pred, xtrain, ytrain, xtest, ytest)"
   ]
  },
  {
   "cell_type": "code",
   "execution_count": 51,
   "metadata": {},
   "outputs": [
    {
     "name": "stdout",
     "output_type": "stream",
     "text": [
      "Train score :0.6152891921228097\n",
      "Test Score :0.620253164556962\n"
     ]
    }
   ],
   "source": [
    "print('Train score :' +str(ad.score(xtrain, ytrain)))\n",
    "print('Test Score :' +str(ad.score(xtest, ytest)))"
   ]
  },
  {
   "cell_type": "code",
   "execution_count": 52,
   "metadata": {},
   "outputs": [
    {
     "ename": "AttributeError",
     "evalue": "'KNeighborsClassifier' object has no attribute 'feature_importances_'",
     "output_type": "error",
     "traceback": [
      "\u001b[1;31m---------------------------------------------------------------------------\u001b[0m",
      "\u001b[1;31mAttributeError\u001b[0m                            Traceback (most recent call last)",
      "\u001b[1;32m<ipython-input-52-413fadf7a23d>\u001b[0m in \u001b[0;36m<module>\u001b[1;34m\u001b[0m\n\u001b[1;32m----> 1\u001b[1;33m \u001b[0mshow_feature_importance\u001b[0m\u001b[1;33m(\u001b[0m\u001b[0mkn\u001b[0m\u001b[1;33m)\u001b[0m\u001b[1;33m\u001b[0m\u001b[1;33m\u001b[0m\u001b[0m\n\u001b[0m",
      "\u001b[1;32m<ipython-input-40-fe46c802ba7f>\u001b[0m in \u001b[0;36mshow_feature_importance\u001b[1;34m(model)\u001b[0m\n\u001b[0;32m     13\u001b[0m \u001b[1;33m\u001b[0m\u001b[0m\n\u001b[0;32m     14\u001b[0m \u001b[1;32mdef\u001b[0m \u001b[0mshow_feature_importance\u001b[0m \u001b[1;33m(\u001b[0m\u001b[0mmodel\u001b[0m\u001b[1;33m)\u001b[0m\u001b[1;33m:\u001b[0m\u001b[1;33m\u001b[0m\u001b[1;33m\u001b[0m\u001b[0m\n\u001b[1;32m---> 15\u001b[1;33m     \u001b[0mfeat_importance\u001b[0m \u001b[1;33m=\u001b[0m \u001b[0mpd\u001b[0m\u001b[1;33m.\u001b[0m\u001b[0mSeries\u001b[0m\u001b[1;33m(\u001b[0m\u001b[0mmodel\u001b[0m\u001b[1;33m.\u001b[0m\u001b[0mfeature_importances_\u001b[0m\u001b[1;33m,\u001b[0m \u001b[0mindex\u001b[0m \u001b[1;33m=\u001b[0m \u001b[0mx\u001b[0m\u001b[1;33m.\u001b[0m\u001b[0mcolumns\u001b[0m\u001b[1;33m)\u001b[0m\u001b[1;33m\u001b[0m\u001b[1;33m\u001b[0m\u001b[0m\n\u001b[0m\u001b[0;32m     16\u001b[0m     \u001b[0max\u001b[0m \u001b[1;33m=\u001b[0m \u001b[0mfeat_importance\u001b[0m\u001b[1;33m.\u001b[0m\u001b[0mnlargest\u001b[0m\u001b[1;33m(\u001b[0m\u001b[1;36m25\u001b[0m\u001b[1;33m)\u001b[0m\u001b[1;33m.\u001b[0m\u001b[0mplot\u001b[0m\u001b[1;33m(\u001b[0m\u001b[0mkind\u001b[0m\u001b[1;33m=\u001b[0m\u001b[1;34m'barh'\u001b[0m\u001b[1;33m,\u001b[0m\u001b[0mfigsize\u001b[0m\u001b[1;33m=\u001b[0m\u001b[1;33m(\u001b[0m\u001b[1;36m10\u001b[0m\u001b[1;33m,\u001b[0m\u001b[1;36m8\u001b[0m\u001b[1;33m)\u001b[0m\u001b[1;33m)\u001b[0m\u001b[1;33m\u001b[0m\u001b[1;33m\u001b[0m\u001b[0m\n\u001b[0;32m     17\u001b[0m     \u001b[0max\u001b[0m\u001b[1;33m.\u001b[0m\u001b[0minvert_yaxis\u001b[0m\u001b[1;33m(\u001b[0m\u001b[1;33m)\u001b[0m\u001b[1;33m\u001b[0m\u001b[1;33m\u001b[0m\u001b[0m\n",
      "\u001b[1;31mAttributeError\u001b[0m: 'KNeighborsClassifier' object has no attribute 'feature_importances_'"
     ]
    }
   ],
   "source": [
    "show_feature_importance(kn)"
   ]
  }
 ],
 "metadata": {
  "kernelspec": {
   "display_name": "Python 3",
   "language": "python",
   "name": "python3"
  },
  "language_info": {
   "codemirror_mode": {
    "name": "ipython",
    "version": 3
   },
   "file_extension": ".py",
   "mimetype": "text/x-python",
   "name": "python",
   "nbconvert_exporter": "python",
   "pygments_lexer": "ipython3",
   "version": "3.8.5"
  }
 },
 "nbformat": 4,
 "nbformat_minor": 4
}
